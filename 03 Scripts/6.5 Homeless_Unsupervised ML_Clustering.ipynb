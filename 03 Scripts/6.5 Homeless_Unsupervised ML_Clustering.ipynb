{
 "cells": [
  {
   "cell_type": "markdown",
   "id": "e2218a4d",
   "metadata": {},
   "source": [
    "# Task 6.5 Unsupervised Machine Learning: Clustering"
   ]
  },
  {
   "cell_type": "markdown",
   "id": "b6f284b1",
   "metadata": {},
   "source": [
    "### This script contains the following:\n",
    "\n",
    "#### 1. Importing Libaries and Data\n",
    "#### 2. Data Cleaning\n",
    "#### 3. Elbow Technique\n",
    "#### 4. K-Means Clustering\n",
    "#### 5. Calculating Descriptive Statistics\n",
    "#### 6. Exporting Data"
   ]
  },
  {
   "cell_type": "markdown",
   "id": "e37fa589",
   "metadata": {},
   "source": [
    "# 1. Importing Libraries and Data"
   ]
  },
  {
   "cell_type": "code",
   "execution_count": 1,
   "id": "e84feb44",
   "metadata": {},
   "outputs": [],
   "source": [
    "import pandas as pd\n",
    "import numpy as np\n",
    "import seaborn as sns\n",
    "import matplotlib\n",
    "import matplotlib.pyplot as plt\n",
    "import os\n",
    "import sklearn\n",
    "from sklearn.cluster import KMeans\n",
    "import pylab as pl "
   ]
  },
  {
   "cell_type": "code",
   "execution_count": 11,
   "id": "081adc4f",
   "metadata": {},
   "outputs": [],
   "source": [
    "# import data\n",
    "df = pd.read_csv(r'C:\\Users\\there\\Desktop\\Achievement 6\\02 Data\\Prepared Data\\6.4_Regression_Homeless_Ages_40-59.csv', index_col=False)"
   ]
  },
  {
   "cell_type": "code",
   "execution_count": 12,
   "id": "b8026162",
   "metadata": {},
   "outputs": [
    {
     "data": {
      "text/html": [
       "<div>\n",
       "<style scoped>\n",
       "    .dataframe tbody tr th:only-of-type {\n",
       "        vertical-align: middle;\n",
       "    }\n",
       "\n",
       "    .dataframe tbody tr th {\n",
       "        vertical-align: top;\n",
       "    }\n",
       "\n",
       "    .dataframe thead th {\n",
       "        text-align: right;\n",
       "    }\n",
       "</style>\n",
       "<table border=\"1\" class=\"dataframe\">\n",
       "  <thead>\n",
       "    <tr style=\"text-align: right;\">\n",
       "      <th></th>\n",
       "      <th>Unnamed: 0</th>\n",
       "      <th>HomelessIndicator</th>\n",
       "      <th>Demographic</th>\n",
       "      <th>DemographicValue</th>\n",
       "      <th>Encounters</th>\n",
       "      <th>TotalEncounters</th>\n",
       "    </tr>\n",
       "  </thead>\n",
       "  <tbody>\n",
       "    <tr>\n",
       "      <th>0</th>\n",
       "      <td>2</td>\n",
       "      <td>Homeless</td>\n",
       "      <td>Age</td>\n",
       "      <td>40 to 59</td>\n",
       "      <td>147</td>\n",
       "      <td>288</td>\n",
       "    </tr>\n",
       "    <tr>\n",
       "      <th>1</th>\n",
       "      <td>6</td>\n",
       "      <td>Homeless</td>\n",
       "      <td>Age</td>\n",
       "      <td>40 to 59</td>\n",
       "      <td>379</td>\n",
       "      <td>846</td>\n",
       "    </tr>\n",
       "    <tr>\n",
       "      <th>2</th>\n",
       "      <td>10</td>\n",
       "      <td>Homeless</td>\n",
       "      <td>Age</td>\n",
       "      <td>40 to 59</td>\n",
       "      <td>0</td>\n",
       "      <td>63</td>\n",
       "    </tr>\n",
       "    <tr>\n",
       "      <th>3</th>\n",
       "      <td>14</td>\n",
       "      <td>Homeless</td>\n",
       "      <td>Age</td>\n",
       "      <td>40 to 59</td>\n",
       "      <td>18</td>\n",
       "      <td>52</td>\n",
       "    </tr>\n",
       "    <tr>\n",
       "      <th>4</th>\n",
       "      <td>18</td>\n",
       "      <td>Homeless</td>\n",
       "      <td>Age</td>\n",
       "      <td>40 to 59</td>\n",
       "      <td>1818</td>\n",
       "      <td>4138</td>\n",
       "    </tr>\n",
       "    <tr>\n",
       "      <th>...</th>\n",
       "      <td>...</td>\n",
       "      <td>...</td>\n",
       "      <td>...</td>\n",
       "      <td>...</td>\n",
       "      <td>...</td>\n",
       "      <td>...</td>\n",
       "    </tr>\n",
       "    <tr>\n",
       "      <th>729</th>\n",
       "      <td>24577</td>\n",
       "      <td>Homeless</td>\n",
       "      <td>Age</td>\n",
       "      <td>40 to 59</td>\n",
       "      <td>1</td>\n",
       "      <td>6</td>\n",
       "    </tr>\n",
       "    <tr>\n",
       "      <th>730</th>\n",
       "      <td>24766</td>\n",
       "      <td>Homeless</td>\n",
       "      <td>Age</td>\n",
       "      <td>40 to 59</td>\n",
       "      <td>52</td>\n",
       "      <td>96</td>\n",
       "    </tr>\n",
       "    <tr>\n",
       "      <th>731</th>\n",
       "      <td>24920</td>\n",
       "      <td>Homeless</td>\n",
       "      <td>Age</td>\n",
       "      <td>40 to 59</td>\n",
       "      <td>2</td>\n",
       "      <td>4</td>\n",
       "    </tr>\n",
       "    <tr>\n",
       "      <th>732</th>\n",
       "      <td>25129</td>\n",
       "      <td>Homeless</td>\n",
       "      <td>Age</td>\n",
       "      <td>40 to 59</td>\n",
       "      <td>29</td>\n",
       "      <td>64</td>\n",
       "    </tr>\n",
       "    <tr>\n",
       "      <th>733</th>\n",
       "      <td>25218</td>\n",
       "      <td>Homeless</td>\n",
       "      <td>Age</td>\n",
       "      <td>40 to 59</td>\n",
       "      <td>2</td>\n",
       "      <td>6</td>\n",
       "    </tr>\n",
       "  </tbody>\n",
       "</table>\n",
       "<p>734 rows × 6 columns</p>\n",
       "</div>"
      ],
      "text/plain": [
       "     Unnamed: 0 HomelessIndicator Demographic DemographicValue  Encounters  \\\n",
       "0             2          Homeless         Age         40 to 59         147   \n",
       "1             6          Homeless         Age         40 to 59         379   \n",
       "2            10          Homeless         Age         40 to 59           0   \n",
       "3            14          Homeless         Age         40 to 59          18   \n",
       "4            18          Homeless         Age         40 to 59        1818   \n",
       "..          ...               ...         ...              ...         ...   \n",
       "729       24577          Homeless         Age         40 to 59           1   \n",
       "730       24766          Homeless         Age         40 to 59          52   \n",
       "731       24920          Homeless         Age         40 to 59           2   \n",
       "732       25129          Homeless         Age         40 to 59          29   \n",
       "733       25218          Homeless         Age         40 to 59           2   \n",
       "\n",
       "     TotalEncounters  \n",
       "0                288  \n",
       "1                846  \n",
       "2                 63  \n",
       "3                 52  \n",
       "4               4138  \n",
       "..               ...  \n",
       "729                6  \n",
       "730               96  \n",
       "731                4  \n",
       "732               64  \n",
       "733                6  \n",
       "\n",
       "[734 rows x 6 columns]"
      ]
     },
     "execution_count": 12,
     "metadata": {},
     "output_type": "execute_result"
    }
   ],
   "source": [
    "df"
   ]
  },
  {
   "cell_type": "markdown",
   "id": "e0919f6f",
   "metadata": {},
   "source": [
    "NOTE:  \n",
    "- **Encounters** = the homeless encounters for the age 40-59 demographic value.  \n",
    "- **Total Encounters** are the total homeless encounters for all age groups. "
   ]
  },
  {
   "cell_type": "code",
   "execution_count": 13,
   "id": "9fb6fc1f",
   "metadata": {},
   "outputs": [],
   "source": [
    "# removing categorical variables or unnecessary columns\n",
    "df = df.drop(columns=['Unnamed: 0', 'HomelessIndicator', 'Demographic','DemographicValue'])"
   ]
  },
  {
   "cell_type": "code",
   "execution_count": 14,
   "id": "764c4c9b",
   "metadata": {},
   "outputs": [
    {
     "data": {
      "text/plain": [
       "Encounters         int64\n",
       "TotalEncounters    int64\n",
       "dtype: object"
      ]
     },
     "execution_count": 14,
     "metadata": {},
     "output_type": "execute_result"
    }
   ],
   "source": [
    "df.dtypes"
   ]
  },
  {
   "cell_type": "markdown",
   "id": "3e73bfb6",
   "metadata": {},
   "source": [
    "# 2. Data Cleaning"
   ]
  },
  {
   "cell_type": "markdown",
   "id": "bca4f2f8",
   "metadata": {},
   "source": [
    "Note: \n",
    "\n",
    "This dataset was cleaned and filtered in prior scripts. No action needed to check duplicates, missing values, or extreme values, etc.  "
   ]
  },
  {
   "cell_type": "markdown",
   "id": "118ed5aa",
   "metadata": {},
   "source": [
    "# 3. Elbow Technique"
   ]
  },
  {
   "cell_type": "code",
   "execution_count": 15,
   "id": "9224f9be",
   "metadata": {},
   "outputs": [],
   "source": [
    "# define the potential clusters in the data\n",
    "num_cl = range(1,10)\n",
    "# define k-means clusters in the range assigned above\n",
    "kmeans = [KMeans(n_clusters=i) for i in num_cl]"
   ]
  },
  {
   "cell_type": "code",
   "execution_count": 16,
   "id": "222d249d",
   "metadata": {},
   "outputs": [
    {
     "data": {
      "text/plain": [
       "[-4652220713.346045,\n",
       " -1978501453.7642176,\n",
       " -852337936.2115502,\n",
       " -531805314.43168944,\n",
       " -306794320.3414536,\n",
       " -204572021.376183,\n",
       " -144298075.06958118,\n",
       " -105524574.6273074,\n",
       " -83863185.02895562]"
      ]
     },
     "execution_count": 16,
     "metadata": {},
     "output_type": "execute_result"
    }
   ],
   "source": [
    "score = [kmeans[i].fit(df).score(df) for i in range(len(kmeans))] # Creates a score that represents \n",
    "# a rate of variation for the given cluster option.\n",
    "\n",
    "score"
   ]
  },
  {
   "cell_type": "code",
   "execution_count": 17,
   "id": "d5e37d7e",
   "metadata": {},
   "outputs": [
    {
     "data": {
      "text/plain": [
       "Text(0.5, 1.0, 'Elbow Curve')"
      ]
     },
     "execution_count": 17,
     "metadata": {},
     "output_type": "execute_result"
    },
    {
     "data": {
      "image/png": "[encoded data removed]",
      "text/plain": [
       "<Figure size 432x288 with 1 Axes>"
      ]
     },
     "metadata": {
      "needs_background": "light"
     },
     "output_type": "display_data"
    }
   ],
   "source": [
    "# plot the elbow curve using Pylab\n",
    "pl.plot(num_cl, score)\n",
    "pl.xlabel('Number of Clusters')\n",
    "pl.ylabel('Score')\n",
    "pl.title('Elbow Curve')"
   ]
  },
  {
   "cell_type": "markdown",
   "id": "b9c7c254",
   "metadata": {},
   "source": [
    "I decided to use 3 because after that the slope tends to lessen.  I tried it with 2 but it seemed like the data was too condensed and I might have been missing some clusters, and anymore than 3 was too many clusters that it hid the groups. "
   ]
  },
  {
   "cell_type": "markdown",
   "id": "ccb0688f",
   "metadata": {},
   "source": [
    "# 4. K-Means Clustering"
   ]
  },
  {
   "cell_type": "code",
   "execution_count": 20,
   "id": "36b40687",
   "metadata": {},
   "outputs": [],
   "source": [
    "# create the k-means object\n",
    "kmeans = KMeans(n_clusters = 3)"
   ]
  },
  {
   "cell_type": "code",
   "execution_count": 21,
   "id": "b41a4080",
   "metadata": {},
   "outputs": [
    {
     "data": {
      "text/html": [
       "<style>#sk-container-id-1 {color: black;background-color: white;}#sk-container-id-1 pre{padding: 0;}#sk-container-id-1 div.sk-toggleable {background-color: white;}#sk-container-id-1 label.sk-toggleable__label {cursor: pointer;display: block;width: 100%;margin-bottom: 0;padding: 0.3em;box-sizing: border-box;text-align: center;}#sk-container-id-1 label.sk-toggleable__label-arrow:before {content: \"▸\";float: left;margin-right: 0.25em;color: #696969;}#sk-container-id-1 label.sk-toggleable__label-arrow:hover:before {color: black;}#sk-container-id-1 div.sk-estimator:hover label.sk-toggleable__label-arrow:before {color: black;}#sk-container-id-1 div.sk-toggleable__content {max-height: 0;max-width: 0;overflow: hidden;text-align: left;background-color: #f0f8ff;}#sk-container-id-1 div.sk-toggleable__content pre {margin: 0.2em;color: black;border-radius: 0.25em;background-color: #f0f8ff;}#sk-container-id-1 input.sk-toggleable__control:checked~div.sk-toggleable__content {max-height: 200px;max-width: 100%;overflow: auto;}#sk-container-id-1 input.sk-toggleable__control:checked~label.sk-toggleable__label-arrow:before {content: \"▾\";}#sk-container-id-1 div.sk-estimator input.sk-toggleable__control:checked~label.sk-toggleable__label {background-color: #d4ebff;}#sk-container-id-1 div.sk-label input.sk-toggleable__control:checked~label.sk-toggleable__label {background-color: #d4ebff;}#sk-container-id-1 input.sk-hidden--visually {border: 0;clip: rect(1px 1px 1px 1px);clip: rect(1px, 1px, 1px, 1px);height: 1px;margin: -1px;overflow: hidden;padding: 0;position: absolute;width: 1px;}#sk-container-id-1 div.sk-estimator {font-family: monospace;background-color: #f0f8ff;border: 1px dotted black;border-radius: 0.25em;box-sizing: border-box;margin-bottom: 0.5em;}#sk-container-id-1 div.sk-estimator:hover {background-color: #d4ebff;}#sk-container-id-1 div.sk-parallel-item::after {content: \"\";width: 100%;border-bottom: 1px solid gray;flex-grow: 1;}#sk-container-id-1 div.sk-label:hover label.sk-toggleable__label {background-color: #d4ebff;}#sk-container-id-1 div.sk-serial::before {content: \"\";position: absolute;border-left: 1px solid gray;box-sizing: border-box;top: 0;bottom: 0;left: 50%;z-index: 0;}#sk-container-id-1 div.sk-serial {display: flex;flex-direction: column;align-items: center;background-color: white;padding-right: 0.2em;padding-left: 0.2em;position: relative;}#sk-container-id-1 div.sk-item {position: relative;z-index: 1;}#sk-container-id-1 div.sk-parallel {display: flex;align-items: stretch;justify-content: center;background-color: white;position: relative;}#sk-container-id-1 div.sk-item::before, #sk-container-id-1 div.sk-parallel-item::before {content: \"\";position: absolute;border-left: 1px solid gray;box-sizing: border-box;top: 0;bottom: 0;left: 50%;z-index: -1;}#sk-container-id-1 div.sk-parallel-item {display: flex;flex-direction: column;z-index: 1;position: relative;background-color: white;}#sk-container-id-1 div.sk-parallel-item:first-child::after {align-self: flex-end;width: 50%;}#sk-container-id-1 div.sk-parallel-item:last-child::after {align-self: flex-start;width: 50%;}#sk-container-id-1 div.sk-parallel-item:only-child::after {width: 0;}#sk-container-id-1 div.sk-dashed-wrapped {border: 1px dashed gray;margin: 0 0.4em 0.5em 0.4em;box-sizing: border-box;padding-bottom: 0.4em;background-color: white;}#sk-container-id-1 div.sk-label label {font-family: monospace;font-weight: bold;display: inline-block;line-height: 1.2em;}#sk-container-id-1 div.sk-label-container {text-align: center;}#sk-container-id-1 div.sk-container {/* jupyter's `normalize.less` sets `[hidden] { display: none; }` but bootstrap.min.css set `[hidden] { display: none !important; }` so we also need the `!important` here to be able to override the default hidden behavior on the sphinx rendered scikit-learn.org. See: https://github.com/scikit-learn/scikit-learn/issues/21755 */display: inline-block !important;position: relative;}#sk-container-id-1 div.sk-text-repr-fallback {display: none;}</style><div id=\"sk-container-id-1\" class=\"sk-top-container\"><div class=\"sk-text-repr-fallback\"><pre>KMeans(n_clusters=3)</pre><b>In a Jupyter environment, please rerun this cell to show the HTML representation or trust the notebook. <br />On GitHub, the HTML representation is unable to render, please try loading this page with nbviewer.org.</b></div><div class=\"sk-container\" hidden><div class=\"sk-item\"><div class=\"sk-estimator sk-toggleable\"><input class=\"sk-toggleable__control sk-hidden--visually\" id=\"sk-estimator-id-1\" type=\"checkbox\" checked><label for=\"sk-estimator-id-1\" class=\"sk-toggleable__label sk-toggleable__label-arrow\">KMeans</label><div class=\"sk-toggleable__content\"><pre>KMeans(n_clusters=3)</pre></div></div></div></div></div>"
      ],
      "text/plain": [
       "KMeans(n_clusters=3)"
      ]
     },
     "execution_count": 21,
     "metadata": {},
     "output_type": "execute_result"
    }
   ],
   "source": [
    "# fit the k-means to the data\n",
    "kmeans.fit(df)"
   ]
  },
  {
   "cell_type": "code",
   "execution_count": 22,
   "id": "849366d8",
   "metadata": {},
   "outputs": [],
   "source": [
    "# creating a column for the assigned clusters\n",
    "df['clusters'] = kmeans.fit_predict(df)"
   ]
  },
  {
   "cell_type": "code",
   "execution_count": 23,
   "id": "9ef75f2a",
   "metadata": {},
   "outputs": [
    {
     "data": {
      "text/html": [
       "<div>\n",
       "<style scoped>\n",
       "    .dataframe tbody tr th:only-of-type {\n",
       "        vertical-align: middle;\n",
       "    }\n",
       "\n",
       "    .dataframe tbody tr th {\n",
       "        vertical-align: top;\n",
       "    }\n",
       "\n",
       "    .dataframe thead th {\n",
       "        text-align: right;\n",
       "    }\n",
       "</style>\n",
       "<table border=\"1\" class=\"dataframe\">\n",
       "  <thead>\n",
       "    <tr style=\"text-align: right;\">\n",
       "      <th></th>\n",
       "      <th>Encounters</th>\n",
       "      <th>TotalEncounters</th>\n",
       "      <th>clusters</th>\n",
       "    </tr>\n",
       "  </thead>\n",
       "  <tbody>\n",
       "    <tr>\n",
       "      <th>0</th>\n",
       "      <td>147</td>\n",
       "      <td>288</td>\n",
       "      <td>0</td>\n",
       "    </tr>\n",
       "    <tr>\n",
       "      <th>1</th>\n",
       "      <td>379</td>\n",
       "      <td>846</td>\n",
       "      <td>0</td>\n",
       "    </tr>\n",
       "    <tr>\n",
       "      <th>2</th>\n",
       "      <td>0</td>\n",
       "      <td>63</td>\n",
       "      <td>0</td>\n",
       "    </tr>\n",
       "    <tr>\n",
       "      <th>3</th>\n",
       "      <td>18</td>\n",
       "      <td>52</td>\n",
       "      <td>0</td>\n",
       "    </tr>\n",
       "    <tr>\n",
       "      <th>4</th>\n",
       "      <td>1818</td>\n",
       "      <td>4138</td>\n",
       "      <td>2</td>\n",
       "    </tr>\n",
       "  </tbody>\n",
       "</table>\n",
       "</div>"
      ],
      "text/plain": [
       "   Encounters  TotalEncounters  clusters\n",
       "0         147              288         0\n",
       "1         379              846         0\n",
       "2           0               63         0\n",
       "3          18               52         0\n",
       "4        1818             4138         2"
      ]
     },
     "execution_count": 23,
     "metadata": {},
     "output_type": "execute_result"
    }
   ],
   "source": [
    "df.head()"
   ]
  },
  {
   "cell_type": "code",
   "execution_count": 24,
   "id": "b8d61fee",
   "metadata": {},
   "outputs": [
    {
     "data": {
      "text/plain": [
       "0    630\n",
       "2     94\n",
       "1     10\n",
       "Name: clusters, dtype: int64"
      ]
     },
     "execution_count": 24,
     "metadata": {},
     "output_type": "execute_result"
    }
   ],
   "source": [
    "# checking the value counts of each cluster\n",
    "df['clusters'].value_counts()"
   ]
  },
  {
   "cell_type": "code",
   "execution_count": 25,
   "id": "5ef1ef33",
   "metadata": {},
   "outputs": [
    {
     "data": {
      "image/png": "[encoded data removed]",
      "text/plain": [
       "<Figure size 864x576 with 1 Axes>"
      ]
     },
     "metadata": {
      "needs_background": "light"
     },
     "output_type": "display_data"
    }
   ],
   "source": [
    "# plot the clusters for the Homeless Encounter vs. Total Encounter variables\n",
    "plt.figure(figsize=(12,8))\n",
    "ax=sns.scatterplot(x=df['Encounters'], y=df['TotalEncounters'], hue = kmeans.labels_, s=100)\n",
    "# subsetting the 'X' for the x and y arguements to avoid using their labels.\n",
    "# hue takes the value of the attribute 'kmeans.labels_', which is the result of running the kmeans algorithm\n",
    "# 's' represents the size of the points you want to add in the plot.\n",
    "\n",
    "ax.grid(False) # Removes the grid from the background\n",
    "plt.xlabel('Homeless Encounters for 40-59 Age Group')\n",
    "plt.ylabel('Total Homeless Encounters for all Age Groups')\n",
    "plt.show()"
   ]
  },
  {
   "cell_type": "markdown",
   "id": "ea800d33",
   "metadata": {},
   "source": [
    "Results:  \n",
    "\n",
    "1.  In general, this dataset was not a great dataset to do k-means on as there were so few variables to test and cluster.  \n",
    "2. After seeing the elbow curve and looking at the k-means graphs, it appears that there are some clusters that are not well seen.  I believe this is due in part because of the lack of additional variables to use with clustering as well as not having the data standardized. There is a very large range for both Total Encounters and Homeless Encounters.  "
   ]
  },
  {
   "cell_type": "markdown",
   "id": "a386c611",
   "metadata": {},
   "source": [
    "# 5. Calculating Descriptive Statistics"
   ]
  },
  {
   "cell_type": "code",
   "execution_count": 28,
   "id": "3a8dd48e",
   "metadata": {},
   "outputs": [],
   "source": [
    "# creating groups for cluster colors\n",
    "df.loc[df['clusters'] == 2, 'cluster_color'] = 'dark purple'\n",
    "df.loc[df['clusters'] == 1, 'cluster_color'] = 'purple'\n",
    "df.loc[df['clusters'] == 0, 'cluster_color'] = 'pink'"
   ]
  },
  {
   "cell_type": "code",
   "execution_count": 30,
   "id": "47d1b392",
   "metadata": {},
   "outputs": [
    {
     "data": {
      "text/html": [
       "<div>\n",
       "<style scoped>\n",
       "    .dataframe tbody tr th:only-of-type {\n",
       "        vertical-align: middle;\n",
       "    }\n",
       "\n",
       "    .dataframe tbody tr th {\n",
       "        vertical-align: top;\n",
       "    }\n",
       "\n",
       "    .dataframe thead tr th {\n",
       "        text-align: left;\n",
       "    }\n",
       "\n",
       "    .dataframe thead tr:last-of-type th {\n",
       "        text-align: right;\n",
       "    }\n",
       "</style>\n",
       "<table border=\"1\" class=\"dataframe\">\n",
       "  <thead>\n",
       "    <tr>\n",
       "      <th></th>\n",
       "      <th colspan=\"2\" halign=\"left\">Encounters</th>\n",
       "      <th colspan=\"2\" halign=\"left\">TotalEncounters</th>\n",
       "    </tr>\n",
       "    <tr>\n",
       "      <th></th>\n",
       "      <th>mean</th>\n",
       "      <th>median</th>\n",
       "      <th>mean</th>\n",
       "      <th>median</th>\n",
       "    </tr>\n",
       "    <tr>\n",
       "      <th>cluster_color</th>\n",
       "      <th></th>\n",
       "      <th></th>\n",
       "      <th></th>\n",
       "      <th></th>\n",
       "    </tr>\n",
       "  </thead>\n",
       "  <tbody>\n",
       "    <tr>\n",
       "      <th>dark purple</th>\n",
       "      <td>1765.978723</td>\n",
       "      <td>1562.5</td>\n",
       "      <td>4043.180851</td>\n",
       "      <td>3639.0</td>\n",
       "    </tr>\n",
       "    <tr>\n",
       "      <th>pink</th>\n",
       "      <td>253.423810</td>\n",
       "      <td>172.0</td>\n",
       "      <td>565.971429</td>\n",
       "      <td>375.5</td>\n",
       "    </tr>\n",
       "    <tr>\n",
       "      <th>purple</th>\n",
       "      <td>7173.500000</td>\n",
       "      <td>5920.0</td>\n",
       "      <td>15876.500000</td>\n",
       "      <td>13736.5</td>\n",
       "    </tr>\n",
       "  </tbody>\n",
       "</table>\n",
       "</div>"
      ],
      "text/plain": [
       "                Encounters         TotalEncounters         \n",
       "                      mean  median            mean   median\n",
       "cluster_color                                              \n",
       "dark purple    1765.978723  1562.5     4043.180851   3639.0\n",
       "pink            253.423810   172.0      565.971429    375.5\n",
       "purple         7173.500000  5920.0    15876.500000  13736.5"
      ]
     },
     "execution_count": 30,
     "metadata": {},
     "output_type": "execute_result"
    }
   ],
   "source": [
    "# grouping and aggregating colors to get descriptive statistics. \n",
    "df.groupby('cluster_color').agg({'Encounters':['mean', 'median'],\n",
    "             'TotalEncounters':['mean', 'median']})\n"
   ]
  },
  {
   "cell_type": "markdown",
   "id": "e62eb0e6",
   "metadata": {},
   "source": [
    "Results: Through these descriptive statistics we can see there are some outliers with each group, as the median is smaller than the mean.  The mean is more sensitive to outliers. \n",
    "\n",
    "With such a small dataset it is challenging to see different clusters and really derive meaning from these statistics as part of the encounters encompasses the total encounters.  We have three distinct groups within the Encounters of the 40-59 Age Group.  \n",
    "\n",
    "More research is needed to find out what those clusters are.  Since there are so many categorical variables in this dataset, it is recommended to break down the categorical data into dummy variables to see if you could find out more about the clusters.  For example are these clusters related to gender, race, payer type?  "
   ]
  },
  {
   "cell_type": "markdown",
   "id": "4b36e38a",
   "metadata": {},
   "source": [
    "# 6. Exporting Data"
   ]
  },
  {
   "cell_type": "code",
   "execution_count": 31,
   "id": "13c0296c",
   "metadata": {},
   "outputs": [],
   "source": [
    "df.to_csv(r'C:\\Users\\there\\Desktop\\Achievement 6\\02 Data\\Prepared Data\\6.5_Homeless_Unsupervised_ML_Clustering.csv')"
   ]
  }
 ],
 "metadata": {
  "kernelspec": {
   "display_name": "Python 3 (ipykernel)",
   "language": "python",
   "name": "python3"
  },
  "language_info": {
   "codemirror_mode": {
    "name": "ipython",
    "version": 3
   },
   "file_extension": ".py",
   "mimetype": "text/x-python",
   "name": "python",
   "nbconvert_exporter": "python",
   "pygments_lexer": "ipython3",
   "version": "3.9.12"
  }
 },
 "nbformat": 4,
 "nbformat_minor": 5
}
