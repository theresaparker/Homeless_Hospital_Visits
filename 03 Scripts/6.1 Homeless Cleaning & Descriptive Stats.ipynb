{
 "cells": [
  {
   "cell_type": "markdown",
   "id": "58d1f227",
   "metadata": {},
   "source": [
    "# Task 6.1 - Sourcing Open Data\n",
    "\n",
    "    Table of Contents\n",
    "\n",
    "    1. Importing Libararies and Data\n",
    "    2. Dataframe Overview\n",
    "    3. Data Cleaning\n",
    "    \n",
    "    - Checking for mixed data types\n",
    "    - Checking for Duplicates\n",
    "    - Checking for missing values\n",
    "    - Updating Column Names\n",
    "    - Inaccurate/Inconsistent Data\n",
    "\n",
    "    4. Column Derivation \n",
    "    - Added Non_Homeless_Pop column to compare Homeless Encounters to Non_Homeless Encounters\n",
    "    \n",
    "    5. Statistical Analysis\n",
    "    6. Understanding the Data\n",
    "    7. Final Shape\n",
    "    8. Exporting the Data"
   ]
  },
  {
   "cell_type": "markdown",
   "id": "8b8a2429",
   "metadata": {},
   "source": [
    "## 1. Importing Libaries and Data"
   ]
  },
  {
   "cell_type": "code",
   "execution_count": 101,
   "id": "d899076e",
   "metadata": {},
   "outputs": [],
   "source": [
    "# importing libraries\n",
    "import pandas as pd\n",
    "import numpy as np\n",
    "import os\n"
   ]
  },
  {
   "cell_type": "code",
   "execution_count": 102,
   "id": "eb2d5b5b",
   "metadata": {},
   "outputs": [],
   "source": [
    "# creating data path\n",
    "path = r'C:\\Users\\there\\Desktop\\Achievement 6\\02 Data\\Original Data'"
   ]
  },
  {
   "cell_type": "code",
   "execution_count": 103,
   "id": "14d728f4",
   "metadata": {},
   "outputs": [],
   "source": [
    "# importing data\n",
    "df = pd.read_csv(os.path.join(path, '2019-2020-homeless-ip-and-ed-by-facility.csv'), index_col = False)"
   ]
  },
  {
   "cell_type": "markdown",
   "id": "67e38740",
   "metadata": {},
   "source": [
    "## 2. Dataframe Overview"
   ]
  },
  {
   "cell_type": "code",
   "execution_count": 104,
   "id": "78a81ae1",
   "metadata": {},
   "outputs": [
    {
     "data": {
      "text/html": [
       "<div>\n",
       "<style scoped>\n",
       "    .dataframe tbody tr th:only-of-type {\n",
       "        vertical-align: middle;\n",
       "    }\n",
       "\n",
       "    .dataframe tbody tr th {\n",
       "        vertical-align: top;\n",
       "    }\n",
       "\n",
       "    .dataframe thead th {\n",
       "        text-align: right;\n",
       "    }\n",
       "</style>\n",
       "<table border=\"1\" class=\"dataframe\">\n",
       "  <thead>\n",
       "    <tr style=\"text-align: right;\">\n",
       "      <th></th>\n",
       "      <th>EncounterType</th>\n",
       "      <th>HospitalCounty</th>\n",
       "      <th>OSHPD_ID</th>\n",
       "      <th>FacilityName</th>\n",
       "      <th>System</th>\n",
       "      <th>Ownership</th>\n",
       "      <th>Urban_Rural</th>\n",
       "      <th>Teaching</th>\n",
       "      <th>LicensedBedSize</th>\n",
       "      <th>PrimaryCareShortageArea</th>\n",
       "      <th>MentalHealthShortageArea</th>\n",
       "      <th>HomelessIndicator</th>\n",
       "      <th>Demographic</th>\n",
       "      <th>DemographicValue</th>\n",
       "      <th>Encounters</th>\n",
       "      <th>TotalEncounters</th>\n",
       "      <th>Percent</th>\n",
       "    </tr>\n",
       "  </thead>\n",
       "  <tbody>\n",
       "    <tr>\n",
       "      <th>0</th>\n",
       "      <td>Inpatient Hospitalizations</td>\n",
       "      <td>Alameda</td>\n",
       "      <td>10735</td>\n",
       "      <td>Alameda Hospital</td>\n",
       "      <td>Alameda Health System</td>\n",
       "      <td>Government</td>\n",
       "      <td>Urban</td>\n",
       "      <td>Non-Teaching</td>\n",
       "      <td>100-199</td>\n",
       "      <td>No</td>\n",
       "      <td>No</td>\n",
       "      <td>Homeless</td>\n",
       "      <td>Age</td>\n",
       "      <td>0 to 18</td>\n",
       "      <td>0</td>\n",
       "      <td>288</td>\n",
       "      <td>0.0</td>\n",
       "    </tr>\n",
       "    <tr>\n",
       "      <th>1</th>\n",
       "      <td>Inpatient Hospitalizations</td>\n",
       "      <td>Alameda</td>\n",
       "      <td>10735</td>\n",
       "      <td>Alameda Hospital</td>\n",
       "      <td>Alameda Health System</td>\n",
       "      <td>Government</td>\n",
       "      <td>Urban</td>\n",
       "      <td>Non-Teaching</td>\n",
       "      <td>100-199</td>\n",
       "      <td>No</td>\n",
       "      <td>No</td>\n",
       "      <td>Homeless</td>\n",
       "      <td>Age</td>\n",
       "      <td>19 to 39</td>\n",
       "      <td>42</td>\n",
       "      <td>288</td>\n",
       "      <td>14.6</td>\n",
       "    </tr>\n",
       "    <tr>\n",
       "      <th>2</th>\n",
       "      <td>Inpatient Hospitalizations</td>\n",
       "      <td>Alameda</td>\n",
       "      <td>10735</td>\n",
       "      <td>Alameda Hospital</td>\n",
       "      <td>Alameda Health System</td>\n",
       "      <td>Government</td>\n",
       "      <td>Urban</td>\n",
       "      <td>Non-Teaching</td>\n",
       "      <td>100-199</td>\n",
       "      <td>No</td>\n",
       "      <td>No</td>\n",
       "      <td>Homeless</td>\n",
       "      <td>Age</td>\n",
       "      <td>40 to 59</td>\n",
       "      <td>147</td>\n",
       "      <td>288</td>\n",
       "      <td>51.0</td>\n",
       "    </tr>\n",
       "    <tr>\n",
       "      <th>3</th>\n",
       "      <td>Inpatient Hospitalizations</td>\n",
       "      <td>Alameda</td>\n",
       "      <td>10735</td>\n",
       "      <td>Alameda Hospital</td>\n",
       "      <td>Alameda Health System</td>\n",
       "      <td>Government</td>\n",
       "      <td>Urban</td>\n",
       "      <td>Non-Teaching</td>\n",
       "      <td>100-199</td>\n",
       "      <td>No</td>\n",
       "      <td>No</td>\n",
       "      <td>Homeless</td>\n",
       "      <td>Age</td>\n",
       "      <td>60+</td>\n",
       "      <td>99</td>\n",
       "      <td>288</td>\n",
       "      <td>34.4</td>\n",
       "    </tr>\n",
       "    <tr>\n",
       "      <th>4</th>\n",
       "      <td>Inpatient Hospitalizations</td>\n",
       "      <td>Alameda</td>\n",
       "      <td>10739</td>\n",
       "      <td>Alta Bates Summit Medical Center-Alta Bates Ca...</td>\n",
       "      <td>Sutter Health</td>\n",
       "      <td>Non-Profit</td>\n",
       "      <td>Urban</td>\n",
       "      <td>Non-Teaching</td>\n",
       "      <td>300-399</td>\n",
       "      <td>No</td>\n",
       "      <td>No</td>\n",
       "      <td>Homeless</td>\n",
       "      <td>Age</td>\n",
       "      <td>0 to 18</td>\n",
       "      <td>5</td>\n",
       "      <td>846</td>\n",
       "      <td>0.6</td>\n",
       "    </tr>\n",
       "  </tbody>\n",
       "</table>\n",
       "</div>"
      ],
      "text/plain": [
       "                EncounterType HospitalCounty  OSHPD_ID  \\\n",
       "0  Inpatient Hospitalizations        Alameda     10735   \n",
       "1  Inpatient Hospitalizations        Alameda     10735   \n",
       "2  Inpatient Hospitalizations        Alameda     10735   \n",
       "3  Inpatient Hospitalizations        Alameda     10735   \n",
       "4  Inpatient Hospitalizations        Alameda     10739   \n",
       "\n",
       "                                        FacilityName                 System  \\\n",
       "0                                   Alameda Hospital  Alameda Health System   \n",
       "1                                   Alameda Hospital  Alameda Health System   \n",
       "2                                   Alameda Hospital  Alameda Health System   \n",
       "3                                   Alameda Hospital  Alameda Health System   \n",
       "4  Alta Bates Summit Medical Center-Alta Bates Ca...          Sutter Health   \n",
       "\n",
       "    Ownership Urban_Rural      Teaching LicensedBedSize  \\\n",
       "0  Government       Urban  Non-Teaching         100-199   \n",
       "1  Government       Urban  Non-Teaching         100-199   \n",
       "2  Government       Urban  Non-Teaching         100-199   \n",
       "3  Government       Urban  Non-Teaching         100-199   \n",
       "4  Non-Profit       Urban  Non-Teaching         300-399   \n",
       "\n",
       "  PrimaryCareShortageArea MentalHealthShortageArea HomelessIndicator  \\\n",
       "0                      No                       No          Homeless   \n",
       "1                      No                       No          Homeless   \n",
       "2                      No                       No          Homeless   \n",
       "3                      No                       No          Homeless   \n",
       "4                      No                       No          Homeless   \n",
       "\n",
       "  Demographic DemographicValue  Encounters  TotalEncounters  Percent  \n",
       "0         Age          0 to 18           0              288      0.0  \n",
       "1         Age         19 to 39          42              288     14.6  \n",
       "2         Age         40 to 59         147              288     51.0  \n",
       "3         Age              60+          99              288     34.4  \n",
       "4         Age          0 to 18           5              846      0.6  "
      ]
     },
     "execution_count": 104,
     "metadata": {},
     "output_type": "execute_result"
    }
   ],
   "source": [
    "# checking imported data\n",
    "df.head()"
   ]
  },
  {
   "cell_type": "code",
   "execution_count": 105,
   "id": "930506f1",
   "metadata": {},
   "outputs": [
    {
     "name": "stdout",
     "output_type": "stream",
     "text": [
      "<class 'pandas.core.frame.DataFrame'>\n",
      "RangeIndex: 25449 entries, 0 to 25448\n",
      "Data columns (total 17 columns):\n",
      " #   Column                    Non-Null Count  Dtype  \n",
      "---  ------                    --------------  -----  \n",
      " 0   EncounterType             25449 non-null  object \n",
      " 1   HospitalCounty            25449 non-null  object \n",
      " 2   OSHPD_ID                  25449 non-null  int64  \n",
      " 3   FacilityName              25449 non-null  object \n",
      " 4   System                    16609 non-null  object \n",
      " 5   Ownership                 25449 non-null  object \n",
      " 6   Urban_Rural               25449 non-null  object \n",
      " 7   Teaching                  25449 non-null  object \n",
      " 8   LicensedBedSize           25449 non-null  object \n",
      " 9   PrimaryCareShortageArea   25449 non-null  object \n",
      " 10  MentalHealthShortageArea  25449 non-null  object \n",
      " 11  HomelessIndicator         25449 non-null  object \n",
      " 12  Demographic               25449 non-null  object \n",
      " 13  DemographicValue          25449 non-null  object \n",
      " 14  Encounters                25449 non-null  int64  \n",
      " 15  TotalEncounters           25449 non-null  int64  \n",
      " 16  Percent                   25449 non-null  float64\n",
      "dtypes: float64(1), int64(3), object(13)\n",
      "memory usage: 3.3+ MB\n"
     ]
    }
   ],
   "source": [
    "# viewing datatypes\n",
    "df.info()"
   ]
  },
  {
   "cell_type": "code",
   "execution_count": 106,
   "id": "a45ca478",
   "metadata": {},
   "outputs": [],
   "source": [
    "# renaming Encounters to be more intuitive\n",
    "df.rename(columns = {'Encounters': 'Homeless_Pop'}, inplace = True)"
   ]
  },
  {
   "cell_type": "code",
   "execution_count": 107,
   "id": "f38f255b",
   "metadata": {},
   "outputs": [],
   "source": [
    "# dropping column OSHPD_ID as it is not needed for this project\n",
    "df = df.drop(columns = ['OSHPD_ID'])"
   ]
  },
  {
   "cell_type": "code",
   "execution_count": 108,
   "id": "3c2bd6a5",
   "metadata": {},
   "outputs": [
    {
     "name": "stdout",
     "output_type": "stream",
     "text": [
      "<class 'pandas.core.frame.DataFrame'>\n",
      "RangeIndex: 25449 entries, 0 to 25448\n",
      "Data columns (total 16 columns):\n",
      " #   Column                    Non-Null Count  Dtype  \n",
      "---  ------                    --------------  -----  \n",
      " 0   EncounterType             25449 non-null  object \n",
      " 1   HospitalCounty            25449 non-null  object \n",
      " 2   FacilityName              25449 non-null  object \n",
      " 3   System                    16609 non-null  object \n",
      " 4   Ownership                 25449 non-null  object \n",
      " 5   Urban_Rural               25449 non-null  object \n",
      " 6   Teaching                  25449 non-null  object \n",
      " 7   LicensedBedSize           25449 non-null  object \n",
      " 8   PrimaryCareShortageArea   25449 non-null  object \n",
      " 9   MentalHealthShortageArea  25449 non-null  object \n",
      " 10  HomelessIndicator         25449 non-null  object \n",
      " 11  Demographic               25449 non-null  object \n",
      " 12  DemographicValue          25449 non-null  object \n",
      " 13  Homeless_Pop              25449 non-null  int64  \n",
      " 14  TotalEncounters           25449 non-null  int64  \n",
      " 15  Percent                   25449 non-null  float64\n",
      "dtypes: float64(1), int64(2), object(13)\n",
      "memory usage: 3.1+ MB\n"
     ]
    }
   ],
   "source": [
    "# verifying column was removed\n",
    "df.info()"
   ]
  },
  {
   "cell_type": "code",
   "execution_count": 109,
   "id": "dfc3f2f0",
   "metadata": {},
   "outputs": [
    {
     "data": {
      "text/plain": [
       "(25449, 16)"
      ]
     },
     "execution_count": 109,
     "metadata": {},
     "output_type": "execute_result"
    }
   ],
   "source": [
    "# viewing numer of rows and columns\n",
    "df.shape"
   ]
  },
  {
   "cell_type": "markdown",
   "id": "46d439ab",
   "metadata": {},
   "source": [
    "## 3. Data Cleaning"
   ]
  },
  {
   "cell_type": "markdown",
   "id": "6a9cc252",
   "metadata": {},
   "source": [
    "#### Mixed Data Types"
   ]
  },
  {
   "cell_type": "code",
   "execution_count": 110,
   "id": "6fcc40f2",
   "metadata": {},
   "outputs": [
    {
     "name": "stdout",
     "output_type": "stream",
     "text": [
      "System\n"
     ]
    }
   ],
   "source": [
    "# checking for mixed datatypes\n",
    "for col in df.columns.tolist():\n",
    "  weird = (df[[col]].applymap(type) != df[[col]].iloc[0].apply(type)).any(axis = 1)\n",
    "  if len (df[weird]) > 0:\n",
    "    print (col)"
   ]
  },
  {
   "cell_type": "code",
   "execution_count": 111,
   "id": "239c4ca7",
   "metadata": {},
   "outputs": [],
   "source": [
    "# updated System to be a string instead of mixed data type\n",
    "df['System'] = df['System'].astype('str')"
   ]
  },
  {
   "cell_type": "code",
   "execution_count": 112,
   "id": "de73ae3f",
   "metadata": {},
   "outputs": [],
   "source": [
    "# rechecking for mixed datatypes\n",
    "for col in df.columns.tolist():\n",
    "  weird = (df[[col]].applymap(type) != df[[col]].iloc[0].apply(type)).any(axis = 1)\n",
    "  if len (df[weird]) > 0:\n",
    "    print (col)"
   ]
  },
  {
   "cell_type": "markdown",
   "id": "c893e7f6",
   "metadata": {},
   "source": [
    "There was one column [System] with a mixed data-type.  Updated column to a string datatype. "
   ]
  },
  {
   "cell_type": "markdown",
   "id": "88127a03",
   "metadata": {},
   "source": [
    "#### Missing Values"
   ]
  },
  {
   "cell_type": "code",
   "execution_count": 113,
   "id": "08daff97",
   "metadata": {},
   "outputs": [
    {
     "data": {
      "text/plain": [
       "EncounterType               0\n",
       "HospitalCounty              0\n",
       "FacilityName                0\n",
       "System                      0\n",
       "Ownership                   0\n",
       "Urban_Rural                 0\n",
       "Teaching                    0\n",
       "LicensedBedSize             0\n",
       "PrimaryCareShortageArea     0\n",
       "MentalHealthShortageArea    0\n",
       "HomelessIndicator           0\n",
       "Demographic                 0\n",
       "DemographicValue            0\n",
       "Homeless_Pop                0\n",
       "TotalEncounters             0\n",
       "Percent                     0\n",
       "dtype: int64"
      ]
     },
     "execution_count": 113,
     "metadata": {},
     "output_type": "execute_result"
    }
   ],
   "source": [
    "# finding if there are any missing values\n",
    "df.isnull().sum()"
   ]
  },
  {
   "cell_type": "markdown",
   "id": "b60d21ba",
   "metadata": {},
   "source": [
    "There are no missing values"
   ]
  },
  {
   "cell_type": "markdown",
   "id": "fbf6b45e",
   "metadata": {},
   "source": [
    "#### Duplicates"
   ]
  },
  {
   "cell_type": "code",
   "execution_count": 114,
   "id": "25f4ac6d",
   "metadata": {},
   "outputs": [],
   "source": [
    "# creating a subset to remove duplicates\n",
    "df_clean = df[df.duplicated()]"
   ]
  },
  {
   "cell_type": "code",
   "execution_count": 115,
   "id": "f69db2cb",
   "metadata": {},
   "outputs": [
    {
     "data": {
      "text/plain": [
       "(0, 16)"
      ]
     },
     "execution_count": 115,
     "metadata": {},
     "output_type": "execute_result"
    }
   ],
   "source": [
    "# checking shape to see how many duplicates there were\n",
    "df_clean.shape"
   ]
  },
  {
   "cell_type": "code",
   "execution_count": 116,
   "id": "72091207",
   "metadata": {},
   "outputs": [
    {
     "data": {
      "text/html": [
       "<div>\n",
       "<style scoped>\n",
       "    .dataframe tbody tr th:only-of-type {\n",
       "        vertical-align: middle;\n",
       "    }\n",
       "\n",
       "    .dataframe tbody tr th {\n",
       "        vertical-align: top;\n",
       "    }\n",
       "\n",
       "    .dataframe thead th {\n",
       "        text-align: right;\n",
       "    }\n",
       "</style>\n",
       "<table border=\"1\" class=\"dataframe\">\n",
       "  <thead>\n",
       "    <tr style=\"text-align: right;\">\n",
       "      <th></th>\n",
       "      <th>EncounterType</th>\n",
       "      <th>HospitalCounty</th>\n",
       "      <th>FacilityName</th>\n",
       "      <th>System</th>\n",
       "      <th>Ownership</th>\n",
       "      <th>Urban_Rural</th>\n",
       "      <th>Teaching</th>\n",
       "      <th>LicensedBedSize</th>\n",
       "      <th>PrimaryCareShortageArea</th>\n",
       "      <th>MentalHealthShortageArea</th>\n",
       "      <th>HomelessIndicator</th>\n",
       "      <th>Demographic</th>\n",
       "      <th>DemographicValue</th>\n",
       "      <th>Homeless_Pop</th>\n",
       "      <th>TotalEncounters</th>\n",
       "      <th>Percent</th>\n",
       "    </tr>\n",
       "  </thead>\n",
       "  <tbody>\n",
       "  </tbody>\n",
       "</table>\n",
       "</div>"
      ],
      "text/plain": [
       "Empty DataFrame\n",
       "Columns: [EncounterType, HospitalCounty, FacilityName, System, Ownership, Urban_Rural, Teaching, LicensedBedSize, PrimaryCareShortageArea, MentalHealthShortageArea, HomelessIndicator, Demographic, DemographicValue, Homeless_Pop, TotalEncounters, Percent]\n",
       "Index: []"
      ]
     },
     "execution_count": 116,
     "metadata": {},
     "output_type": "execute_result"
    }
   ],
   "source": [
    "df_clean.head()"
   ]
  },
  {
   "cell_type": "markdown",
   "id": "1a70e540",
   "metadata": {},
   "source": [
    "There were no duplicates"
   ]
  },
  {
   "cell_type": "markdown",
   "id": "496fba69",
   "metadata": {},
   "source": [
    "#### Inaccurate or Inconsistent Data"
   ]
  },
  {
   "cell_type": "code",
   "execution_count": 117,
   "id": "7eb00481",
   "metadata": {},
   "outputs": [
    {
     "name": "stdout",
     "output_type": "stream",
     "text": [
      "['100-199' '300-399' '200-299' 'Jan-99' '400+']\n"
     ]
    }
   ],
   "source": [
    "# viewing data in LicensedBedSize variable\n",
    "print(df['LicensedBedSize'].unique())"
   ]
  },
  {
   "cell_type": "markdown",
   "id": "eaad1cc4",
   "metadata": {},
   "source": [
    "'Jan-99' needs to be updated to reflect the number of beds are between 01-99"
   ]
  },
  {
   "cell_type": "code",
   "execution_count": 118,
   "id": "d544d59f",
   "metadata": {},
   "outputs": [],
   "source": [
    "# testing out replacing data in a subframe\n",
    "test = df.replace(\"Jan-99\", \"01-99\", inplace=True)"
   ]
  },
  {
   "cell_type": "code",
   "execution_count": 119,
   "id": "d85dbc46",
   "metadata": {},
   "outputs": [
    {
     "name": "stdout",
     "output_type": "stream",
     "text": [
      "['100-199' '300-399' '200-299' '01-99' '400+']\n"
     ]
    }
   ],
   "source": [
    "print(df['LicensedBedSize'].unique())"
   ]
  },
  {
   "cell_type": "markdown",
   "id": "290430e4",
   "metadata": {},
   "source": [
    "## 4. Column Derivation"
   ]
  },
  {
   "cell_type": "code",
   "execution_count": 120,
   "id": "b7ca359b",
   "metadata": {},
   "outputs": [],
   "source": [
    "# adding a column that counts the Non-Homeless population\n",
    "df=df.assign(Non_Homeless_Population = df.TotalEncounters - df.Homeless_Pop)"
   ]
  },
  {
   "cell_type": "code",
   "execution_count": 121,
   "id": "006232cc",
   "metadata": {},
   "outputs": [
    {
     "data": {
      "text/html": [
       "<div>\n",
       "<style scoped>\n",
       "    .dataframe tbody tr th:only-of-type {\n",
       "        vertical-align: middle;\n",
       "    }\n",
       "\n",
       "    .dataframe tbody tr th {\n",
       "        vertical-align: top;\n",
       "    }\n",
       "\n",
       "    .dataframe thead th {\n",
       "        text-align: right;\n",
       "    }\n",
       "</style>\n",
       "<table border=\"1\" class=\"dataframe\">\n",
       "  <thead>\n",
       "    <tr style=\"text-align: right;\">\n",
       "      <th></th>\n",
       "      <th>EncounterType</th>\n",
       "      <th>HospitalCounty</th>\n",
       "      <th>FacilityName</th>\n",
       "      <th>System</th>\n",
       "      <th>Ownership</th>\n",
       "      <th>Urban_Rural</th>\n",
       "      <th>Teaching</th>\n",
       "      <th>LicensedBedSize</th>\n",
       "      <th>PrimaryCareShortageArea</th>\n",
       "      <th>MentalHealthShortageArea</th>\n",
       "      <th>HomelessIndicator</th>\n",
       "      <th>Demographic</th>\n",
       "      <th>DemographicValue</th>\n",
       "      <th>Homeless_Pop</th>\n",
       "      <th>TotalEncounters</th>\n",
       "      <th>Percent</th>\n",
       "      <th>Non_Homeless_Population</th>\n",
       "    </tr>\n",
       "  </thead>\n",
       "  <tbody>\n",
       "    <tr>\n",
       "      <th>0</th>\n",
       "      <td>Inpatient Hospitalizations</td>\n",
       "      <td>Alameda</td>\n",
       "      <td>Alameda Hospital</td>\n",
       "      <td>Alameda Health System</td>\n",
       "      <td>Government</td>\n",
       "      <td>Urban</td>\n",
       "      <td>Non-Teaching</td>\n",
       "      <td>100-199</td>\n",
       "      <td>No</td>\n",
       "      <td>No</td>\n",
       "      <td>Homeless</td>\n",
       "      <td>Age</td>\n",
       "      <td>0 to 18</td>\n",
       "      <td>0</td>\n",
       "      <td>288</td>\n",
       "      <td>0.0</td>\n",
       "      <td>288</td>\n",
       "    </tr>\n",
       "    <tr>\n",
       "      <th>1</th>\n",
       "      <td>Inpatient Hospitalizations</td>\n",
       "      <td>Alameda</td>\n",
       "      <td>Alameda Hospital</td>\n",
       "      <td>Alameda Health System</td>\n",
       "      <td>Government</td>\n",
       "      <td>Urban</td>\n",
       "      <td>Non-Teaching</td>\n",
       "      <td>100-199</td>\n",
       "      <td>No</td>\n",
       "      <td>No</td>\n",
       "      <td>Homeless</td>\n",
       "      <td>Age</td>\n",
       "      <td>19 to 39</td>\n",
       "      <td>42</td>\n",
       "      <td>288</td>\n",
       "      <td>14.6</td>\n",
       "      <td>246</td>\n",
       "    </tr>\n",
       "    <tr>\n",
       "      <th>2</th>\n",
       "      <td>Inpatient Hospitalizations</td>\n",
       "      <td>Alameda</td>\n",
       "      <td>Alameda Hospital</td>\n",
       "      <td>Alameda Health System</td>\n",
       "      <td>Government</td>\n",
       "      <td>Urban</td>\n",
       "      <td>Non-Teaching</td>\n",
       "      <td>100-199</td>\n",
       "      <td>No</td>\n",
       "      <td>No</td>\n",
       "      <td>Homeless</td>\n",
       "      <td>Age</td>\n",
       "      <td>40 to 59</td>\n",
       "      <td>147</td>\n",
       "      <td>288</td>\n",
       "      <td>51.0</td>\n",
       "      <td>141</td>\n",
       "    </tr>\n",
       "    <tr>\n",
       "      <th>3</th>\n",
       "      <td>Inpatient Hospitalizations</td>\n",
       "      <td>Alameda</td>\n",
       "      <td>Alameda Hospital</td>\n",
       "      <td>Alameda Health System</td>\n",
       "      <td>Government</td>\n",
       "      <td>Urban</td>\n",
       "      <td>Non-Teaching</td>\n",
       "      <td>100-199</td>\n",
       "      <td>No</td>\n",
       "      <td>No</td>\n",
       "      <td>Homeless</td>\n",
       "      <td>Age</td>\n",
       "      <td>60+</td>\n",
       "      <td>99</td>\n",
       "      <td>288</td>\n",
       "      <td>34.4</td>\n",
       "      <td>189</td>\n",
       "    </tr>\n",
       "    <tr>\n",
       "      <th>4</th>\n",
       "      <td>Inpatient Hospitalizations</td>\n",
       "      <td>Alameda</td>\n",
       "      <td>Alta Bates Summit Medical Center-Alta Bates Ca...</td>\n",
       "      <td>Sutter Health</td>\n",
       "      <td>Non-Profit</td>\n",
       "      <td>Urban</td>\n",
       "      <td>Non-Teaching</td>\n",
       "      <td>300-399</td>\n",
       "      <td>No</td>\n",
       "      <td>No</td>\n",
       "      <td>Homeless</td>\n",
       "      <td>Age</td>\n",
       "      <td>0 to 18</td>\n",
       "      <td>5</td>\n",
       "      <td>846</td>\n",
       "      <td>0.6</td>\n",
       "      <td>841</td>\n",
       "    </tr>\n",
       "  </tbody>\n",
       "</table>\n",
       "</div>"
      ],
      "text/plain": [
       "                EncounterType HospitalCounty  \\\n",
       "0  Inpatient Hospitalizations        Alameda   \n",
       "1  Inpatient Hospitalizations        Alameda   \n",
       "2  Inpatient Hospitalizations        Alameda   \n",
       "3  Inpatient Hospitalizations        Alameda   \n",
       "4  Inpatient Hospitalizations        Alameda   \n",
       "\n",
       "                                        FacilityName                 System  \\\n",
       "0                                   Alameda Hospital  Alameda Health System   \n",
       "1                                   Alameda Hospital  Alameda Health System   \n",
       "2                                   Alameda Hospital  Alameda Health System   \n",
       "3                                   Alameda Hospital  Alameda Health System   \n",
       "4  Alta Bates Summit Medical Center-Alta Bates Ca...          Sutter Health   \n",
       "\n",
       "    Ownership Urban_Rural      Teaching LicensedBedSize  \\\n",
       "0  Government       Urban  Non-Teaching         100-199   \n",
       "1  Government       Urban  Non-Teaching         100-199   \n",
       "2  Government       Urban  Non-Teaching         100-199   \n",
       "3  Government       Urban  Non-Teaching         100-199   \n",
       "4  Non-Profit       Urban  Non-Teaching         300-399   \n",
       "\n",
       "  PrimaryCareShortageArea MentalHealthShortageArea HomelessIndicator  \\\n",
       "0                      No                       No          Homeless   \n",
       "1                      No                       No          Homeless   \n",
       "2                      No                       No          Homeless   \n",
       "3                      No                       No          Homeless   \n",
       "4                      No                       No          Homeless   \n",
       "\n",
       "  Demographic DemographicValue  Homeless_Pop  TotalEncounters  Percent  \\\n",
       "0         Age          0 to 18             0              288      0.0   \n",
       "1         Age         19 to 39            42              288     14.6   \n",
       "2         Age         40 to 59           147              288     51.0   \n",
       "3         Age              60+            99              288     34.4   \n",
       "4         Age          0 to 18             5              846      0.6   \n",
       "\n",
       "   Non_Homeless_Population  \n",
       "0                      288  \n",
       "1                      246  \n",
       "2                      141  \n",
       "3                      189  \n",
       "4                      841  "
      ]
     },
     "execution_count": 121,
     "metadata": {},
     "output_type": "execute_result"
    }
   ],
   "source": [
    "df.head()"
   ]
  },
  {
   "cell_type": "markdown",
   "id": "20c6a5dc",
   "metadata": {},
   "source": [
    "## 5. Statistical Analysis"
   ]
  },
  {
   "cell_type": "code",
   "execution_count": 122,
   "id": "83a7d653",
   "metadata": {
    "scrolled": true
   },
   "outputs": [
    {
     "data": {
      "text/html": [
       "<div>\n",
       "<style scoped>\n",
       "    .dataframe tbody tr th:only-of-type {\n",
       "        vertical-align: middle;\n",
       "    }\n",
       "\n",
       "    .dataframe tbody tr th {\n",
       "        vertical-align: top;\n",
       "    }\n",
       "\n",
       "    .dataframe thead th {\n",
       "        text-align: right;\n",
       "    }\n",
       "</style>\n",
       "<table border=\"1\" class=\"dataframe\">\n",
       "  <thead>\n",
       "    <tr style=\"text-align: right;\">\n",
       "      <th></th>\n",
       "      <th>Homeless_Pop</th>\n",
       "      <th>TotalEncounters</th>\n",
       "      <th>Percent</th>\n",
       "      <th>Non_Homeless_Population</th>\n",
       "    </tr>\n",
       "  </thead>\n",
       "  <tbody>\n",
       "    <tr>\n",
       "      <th>count</th>\n",
       "      <td>25449.000000</td>\n",
       "      <td>25449.000000</td>\n",
       "      <td>25449.000000</td>\n",
       "      <td>25449.000000</td>\n",
       "    </tr>\n",
       "    <tr>\n",
       "      <th>mean</th>\n",
       "      <td>4737.598373</td>\n",
       "      <td>20135.015718</td>\n",
       "      <td>23.529211</td>\n",
       "      <td>15397.417344</td>\n",
       "    </tr>\n",
       "    <tr>\n",
       "      <th>std</th>\n",
       "      <td>11630.923563</td>\n",
       "      <td>35862.090590</td>\n",
       "      <td>23.181105</td>\n",
       "      <td>28568.578756</td>\n",
       "    </tr>\n",
       "    <tr>\n",
       "      <th>min</th>\n",
       "      <td>0.000000</td>\n",
       "      <td>1.000000</td>\n",
       "      <td>0.000000</td>\n",
       "      <td>0.000000</td>\n",
       "    </tr>\n",
       "    <tr>\n",
       "      <th>25%</th>\n",
       "      <td>24.000000</td>\n",
       "      <td>472.000000</td>\n",
       "      <td>2.800000</td>\n",
       "      <td>310.000000</td>\n",
       "    </tr>\n",
       "    <tr>\n",
       "      <th>50%</th>\n",
       "      <td>303.000000</td>\n",
       "      <td>2406.000000</td>\n",
       "      <td>17.100000</td>\n",
       "      <td>1725.000000</td>\n",
       "    </tr>\n",
       "    <tr>\n",
       "      <th>75%</th>\n",
       "      <td>3233.000000</td>\n",
       "      <td>24756.000000</td>\n",
       "      <td>39.200000</td>\n",
       "      <td>17964.000000</td>\n",
       "    </tr>\n",
       "    <tr>\n",
       "      <th>max</th>\n",
       "      <td>159647.000000</td>\n",
       "      <td>262076.000000</td>\n",
       "      <td>100.000000</td>\n",
       "      <td>261426.000000</td>\n",
       "    </tr>\n",
       "  </tbody>\n",
       "</table>\n",
       "</div>"
      ],
      "text/plain": [
       "        Homeless_Pop  TotalEncounters       Percent  Non_Homeless_Population\n",
       "count   25449.000000     25449.000000  25449.000000             25449.000000\n",
       "mean     4737.598373     20135.015718     23.529211             15397.417344\n",
       "std     11630.923563     35862.090590     23.181105             28568.578756\n",
       "min         0.000000         1.000000      0.000000                 0.000000\n",
       "25%        24.000000       472.000000      2.800000               310.000000\n",
       "50%       303.000000      2406.000000     17.100000              1725.000000\n",
       "75%      3233.000000     24756.000000     39.200000             17964.000000\n",
       "max    159647.000000    262076.000000    100.000000            261426.000000"
      ]
     },
     "execution_count": 122,
     "metadata": {},
     "output_type": "execute_result"
    }
   ],
   "source": [
    "# checking the overall statistical information\n",
    "df.describe()"
   ]
  },
  {
   "cell_type": "code",
   "execution_count": 123,
   "id": "09097a36",
   "metadata": {},
   "outputs": [
    {
     "name": "stdout",
     "output_type": "stream",
     "text": [
      "Homeless_Pop                4737.598373\n",
      "Non_Homeless_Population    15397.417344\n",
      "TotalEncounters            20135.015718\n",
      "Percent                       23.529211\n",
      "dtype: float64\n"
     ]
    }
   ],
   "source": [
    "# checking the average\n",
    "average = df[[\"Homeless_Pop\", \"Non_Homeless_Population\", \"TotalEncounters\",\"Percent\"]].mean()\n",
    "print(average)"
   ]
  },
  {
   "cell_type": "code",
   "execution_count": 124,
   "id": "2062864f",
   "metadata": {},
   "outputs": [
    {
     "name": "stdout",
     "output_type": "stream",
     "text": [
      "Homeless_Pop                303.0\n",
      "Non_Homeless_Population    1725.0\n",
      "TotalEncounters            2406.0\n",
      "Percent                      17.1\n",
      "dtype: float64\n"
     ]
    }
   ],
   "source": [
    "# checking the median due to outlier sensitivity with the average/mean\n",
    "median = df[[\"Homeless_Pop\", \"Non_Homeless_Population\", \"TotalEncounters\",\"Percent\"]].median()\n",
    "print(median)"
   ]
  },
  {
   "cell_type": "code",
   "execution_count": 125,
   "id": "7d34f574",
   "metadata": {},
   "outputs": [
    {
     "name": "stdout",
     "output_type": "stream",
     "text": [
      "Homeless_Pop               1.352784e+08\n",
      "Non_Homeless_Population    8.161637e+08\n",
      "TotalEncounters            1.286090e+09\n",
      "Percent                    5.373636e+02\n",
      "dtype: float64\n"
     ]
    }
   ],
   "source": [
    "# checking the variance\n",
    "var = df[[\"Homeless_Pop\", \"Non_Homeless_Population\", \"TotalEncounters\",\"Percent\"]].var()\n",
    "print(var)"
   ]
  },
  {
   "cell_type": "markdown",
   "id": "8f9029e5",
   "metadata": {},
   "source": [
    "## 6. Understanding the Data\n",
    "\n",
    "- Mean/Median:  We have a large difference between the mean(s) and median(s).  The largest difference is with the Homeless Encounters variable.  Due to the large difference and the mean being sensitive to outliers, this indicates there may be outliers and the data should be looked into for further analysis. \n",
    "\n",
    "\n",
    "- Variance:  There is a very large variance, which tells us that the spread of the data is very large. \n",
    "\n",
    "\n",
    "- Std. Deviation:  1 standard deviation away from the mean is 11,630, which will account for about 68% of the homeless encounters at the hospitals in California.  "
   ]
  },
  {
   "cell_type": "markdown",
   "id": "868f9a12",
   "metadata": {},
   "source": [
    "## 7. Final Shape"
   ]
  },
  {
   "cell_type": "code",
   "execution_count": 126,
   "id": "61cb6081",
   "metadata": {},
   "outputs": [
    {
     "data": {
      "text/plain": [
       "(25449, 17)"
      ]
     },
     "execution_count": 126,
     "metadata": {},
     "output_type": "execute_result"
    }
   ],
   "source": [
    "df.shape"
   ]
  },
  {
   "cell_type": "markdown",
   "id": "ca793e65",
   "metadata": {},
   "source": [
    "## 8. Export to CSV"
   ]
  },
  {
   "cell_type": "code",
   "execution_count": 127,
   "id": "30dd7d87",
   "metadata": {},
   "outputs": [],
   "source": [
    "df.to_csv(r'C:\\Users\\there\\Desktop\\Achievement 6\\02 Data\\Prepared Data\\6.1_Cleaning_and_Desc_Statistics.csv')"
   ]
  }
 ],
 "metadata": {
  "kernelspec": {
   "display_name": "Python 3 (ipykernel)",
   "language": "python",
   "name": "python3"
  },
  "language_info": {
   "codemirror_mode": {
    "name": "ipython",
    "version": 3
   },
   "file_extension": ".py",
   "mimetype": "text/x-python",
   "name": "python",
   "nbconvert_exporter": "python",
   "pygments_lexer": "ipython3",
   "version": "3.9.12"
  }
 },
 "nbformat": 4,
 "nbformat_minor": 5
}
