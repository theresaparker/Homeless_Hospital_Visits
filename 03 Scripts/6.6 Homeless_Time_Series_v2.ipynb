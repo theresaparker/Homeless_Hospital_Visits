{
 "cells": [
  {
   "cell_type": "markdown",
   "id": "45703087",
   "metadata": {},
   "source": [
    "# Task 6.6 Time Series Analysis"
   ]
  },
  {
   "cell_type": "markdown",
   "id": "1db30f3e",
   "metadata": {},
   "source": [
    "1.  Importing libraries and data\n",
    "2.  Reviewing dataset\n",
    "3.  Creating Subset, Wrangling, and Cleaning Data\n",
    "4.  Time Series Analysis:  Decomposition\n",
    "5.  Dickey-Fuller Test\n",
    "6.  Autocorrelation\n",
    "7.  Stationarizing the Data\n",
    "8.  Exporting the Data"
   ]
  },
  {
   "cell_type": "markdown",
   "id": "4f15918f",
   "metadata": {},
   "source": [
    "# 1. Importing libraries and data"
   ]
  },
  {
   "cell_type": "code",
   "execution_count": 2,
   "id": "faa59c9f",
   "metadata": {},
   "outputs": [],
   "source": [
    "# importing libraries\n",
    "import quandl\n",
    "import pandas as pd\n",
    "import numpy as np\n",
    "import seaborn as sns\n",
    "import matplotlib\n",
    "import matplotlib.pyplot as plt\n",
    "import statsmodels.api as sm # Using .api imports the public access version of statsmodels, which is a library that handles statistical models.\n",
    "import os\n",
    "import warnings # This is a library that handles warnings.\n",
    "\n",
    "warnings.filterwarnings(\"ignore\") # Disable deprecation warnings that could indicate, for instance, a suspended library or feature. These are more relevant to developers and very seldom to analysts.\n",
    "\n",
    "plt.style.use('fivethirtyeight') # This is a styling option for how plots will appear. "
   ]
  },
  {
   "cell_type": "code",
   "execution_count": 3,
   "id": "5fad6816",
   "metadata": {},
   "outputs": [],
   "source": [
    "# importing dataset\n",
    "df = pd.read_csv(r'C:\\Users\\there\\Desktop\\Achievement 6\\02 Data\\Original Data\\homelessness_usa.csv', index_col=False)"
   ]
  },
  {
   "cell_type": "markdown",
   "id": "bf7b98d1",
   "metadata": {},
   "source": [
    "# 2. Reviewing dataset"
   ]
  },
  {
   "cell_type": "code",
   "execution_count": 4,
   "id": "467e5eac",
   "metadata": {},
   "outputs": [
    {
     "data": {
      "text/html": [
       "<div>\n",
       "<style scoped>\n",
       "    .dataframe tbody tr th:only-of-type {\n",
       "        vertical-align: middle;\n",
       "    }\n",
       "\n",
       "    .dataframe tbody tr th {\n",
       "        vertical-align: top;\n",
       "    }\n",
       "\n",
       "    .dataframe thead th {\n",
       "        text-align: right;\n",
       "    }\n",
       "</style>\n",
       "<table border=\"1\" class=\"dataframe\">\n",
       "  <thead>\n",
       "    <tr style=\"text-align: right;\">\n",
       "      <th></th>\n",
       "      <th>year</th>\n",
       "      <th>sheltered</th>\n",
       "      <th>unsheltered</th>\n",
       "      <th>total</th>\n",
       "    </tr>\n",
       "  </thead>\n",
       "  <tbody>\n",
       "    <tr>\n",
       "      <th>0</th>\n",
       "      <td>2007</td>\n",
       "      <td>391401</td>\n",
       "      <td>255857</td>\n",
       "      <td>647258</td>\n",
       "    </tr>\n",
       "    <tr>\n",
       "      <th>1</th>\n",
       "      <td>2008</td>\n",
       "      <td>386361</td>\n",
       "      <td>253423</td>\n",
       "      <td>639784</td>\n",
       "    </tr>\n",
       "    <tr>\n",
       "      <th>2</th>\n",
       "      <td>2009</td>\n",
       "      <td>403308</td>\n",
       "      <td>226919</td>\n",
       "      <td>630227</td>\n",
       "    </tr>\n",
       "    <tr>\n",
       "      <th>3</th>\n",
       "      <td>2010</td>\n",
       "      <td>403543</td>\n",
       "      <td>233534</td>\n",
       "      <td>637077</td>\n",
       "    </tr>\n",
       "    <tr>\n",
       "      <th>4</th>\n",
       "      <td>2011</td>\n",
       "      <td>392316</td>\n",
       "      <td>231472</td>\n",
       "      <td>623788</td>\n",
       "    </tr>\n",
       "  </tbody>\n",
       "</table>\n",
       "</div>"
      ],
      "text/plain": [
       "   year  sheltered  unsheltered   total\n",
       "0  2007     391401       255857  647258\n",
       "1  2008     386361       253423  639784\n",
       "2  2009     403308       226919  630227\n",
       "3  2010     403543       233534  637077\n",
       "4  2011     392316       231472  623788"
      ]
     },
     "execution_count": 4,
     "metadata": {},
     "output_type": "execute_result"
    }
   ],
   "source": [
    "df.head()"
   ]
  },
  {
   "cell_type": "code",
   "execution_count": 5,
   "id": "89f035fc",
   "metadata": {},
   "outputs": [
    {
     "name": "stdout",
     "output_type": "stream",
     "text": [
      "<class 'pandas.core.frame.DataFrame'>\n",
      "RangeIndex: 12 entries, 0 to 11\n",
      "Data columns (total 4 columns):\n",
      " #   Column       Non-Null Count  Dtype\n",
      "---  ------       --------------  -----\n",
      " 0   year         12 non-null     int64\n",
      " 1   sheltered    12 non-null     int64\n",
      " 2   unsheltered  12 non-null     int64\n",
      " 3   total        12 non-null     int64\n",
      "dtypes: int64(4)\n",
      "memory usage: 512.0 bytes\n"
     ]
    }
   ],
   "source": [
    "df.info()"
   ]
  },
  {
   "cell_type": "code",
   "execution_count": 6,
   "id": "72549fdc",
   "metadata": {},
   "outputs": [
    {
     "data": {
      "text/plain": [
       "(12, 4)"
      ]
     },
     "execution_count": 6,
     "metadata": {},
     "output_type": "execute_result"
    }
   ],
   "source": [
    "df.shape"
   ]
  },
  {
   "cell_type": "code",
   "execution_count": 7,
   "id": "86d36528",
   "metadata": {},
   "outputs": [
    {
     "data": {
      "text/plain": [
       "pandas.core.frame.DataFrame"
      ]
     },
     "execution_count": 7,
     "metadata": {},
     "output_type": "execute_result"
    }
   ],
   "source": [
    "type(df)"
   ]
  },
  {
   "cell_type": "code",
   "execution_count": 9,
   "id": "273a5162",
   "metadata": {},
   "outputs": [
    {
     "data": {
      "text/plain": [
       "[<matplotlib.lines.Line2D at 0x28915386a30>,\n",
       " <matplotlib.lines.Line2D at 0x28915386a90>,\n",
       " <matplotlib.lines.Line2D at 0x28915386bb0>,\n",
       " <matplotlib.lines.Line2D at 0x28915386cd0>]"
      ]
     },
     "execution_count": 9,
     "metadata": {},
     "output_type": "execute_result"
    },
    {
     "data": {
      "image/png": "[encoded data removed]",
      "text/plain": [
       "<Figure size 1500x500 with 1 Axes>"
      ]
     },
     "metadata": {},
     "output_type": "display_data"
    }
   ],
   "source": [
    "# plotting the data with matplotlib\n",
    "plt.figure(figsize=(15,5), dpi=100)\n",
    "plt.plot(df)"
   ]
  },
  {
   "cell_type": "markdown",
   "id": "66b447fa",
   "metadata": {},
   "source": [
    "# 3. Creating Subsets, Wrangling, and Cleaning Data"
   ]
  },
  {
   "cell_type": "code",
   "execution_count": 83,
   "id": "7b233831",
   "metadata": {},
   "outputs": [],
   "source": [
    "# creating a new dataframe for total homeless counts\n",
    "df2 = df[['year', 'total']]"
   ]
  },
  {
   "cell_type": "markdown",
   "id": "6d74947a",
   "metadata": {},
   "source": [
    "**Why was this subset created?** This was created because in our main data set for this project focuses on Homeless Individuals. It is not broken down into unsheltered or sheltered; therefore, at this point, it would be more relevant to use the total number of homeless rather than a particular subset like sheltered/unsheltered.   \n",
    "\n",
    "*Note While I tried to look for a dataset for the number of homeless in California for this time series analysis, I could not find one.  The numbers that are reflected in this dataset is for the United States. It would be interesting to be able to compare the homeless population of California to the rest of the states as there are certain states that have more homeless people, which could have an affect on hospital trends.*\n",
    "\n",
    "Dataset is from https://datahub.io/gavram/homelessness#readme"
   ]
  },
  {
   "cell_type": "code",
   "execution_count": 86,
   "id": "dd03fc6f",
   "metadata": {},
   "outputs": [
    {
     "data": {
      "text/html": [
       "<div>\n",
       "<style scoped>\n",
       "    .dataframe tbody tr th:only-of-type {\n",
       "        vertical-align: middle;\n",
       "    }\n",
       "\n",
       "    .dataframe tbody tr th {\n",
       "        vertical-align: top;\n",
       "    }\n",
       "\n",
       "    .dataframe thead th {\n",
       "        text-align: right;\n",
       "    }\n",
       "</style>\n",
       "<table border=\"1\" class=\"dataframe\">\n",
       "  <thead>\n",
       "    <tr style=\"text-align: right;\">\n",
       "      <th></th>\n",
       "      <th>year</th>\n",
       "      <th>total</th>\n",
       "    </tr>\n",
       "  </thead>\n",
       "  <tbody>\n",
       "    <tr>\n",
       "      <th>0</th>\n",
       "      <td>2007</td>\n",
       "      <td>647258</td>\n",
       "    </tr>\n",
       "    <tr>\n",
       "      <th>1</th>\n",
       "      <td>2008</td>\n",
       "      <td>639784</td>\n",
       "    </tr>\n",
       "    <tr>\n",
       "      <th>2</th>\n",
       "      <td>2009</td>\n",
       "      <td>630227</td>\n",
       "    </tr>\n",
       "    <tr>\n",
       "      <th>3</th>\n",
       "      <td>2010</td>\n",
       "      <td>637077</td>\n",
       "    </tr>\n",
       "    <tr>\n",
       "      <th>4</th>\n",
       "      <td>2011</td>\n",
       "      <td>623788</td>\n",
       "    </tr>\n",
       "    <tr>\n",
       "      <th>5</th>\n",
       "      <td>2012</td>\n",
       "      <td>621553</td>\n",
       "    </tr>\n",
       "    <tr>\n",
       "      <th>6</th>\n",
       "      <td>2013</td>\n",
       "      <td>590364</td>\n",
       "    </tr>\n",
       "    <tr>\n",
       "      <th>7</th>\n",
       "      <td>2014</td>\n",
       "      <td>576450</td>\n",
       "    </tr>\n",
       "    <tr>\n",
       "      <th>8</th>\n",
       "      <td>2015</td>\n",
       "      <td>564708</td>\n",
       "    </tr>\n",
       "    <tr>\n",
       "      <th>9</th>\n",
       "      <td>2016</td>\n",
       "      <td>549928</td>\n",
       "    </tr>\n",
       "    <tr>\n",
       "      <th>10</th>\n",
       "      <td>2017</td>\n",
       "      <td>550996</td>\n",
       "    </tr>\n",
       "    <tr>\n",
       "      <th>11</th>\n",
       "      <td>2018</td>\n",
       "      <td>552830</td>\n",
       "    </tr>\n",
       "  </tbody>\n",
       "</table>\n",
       "</div>"
      ],
      "text/plain": [
       "    year   total\n",
       "0   2007  647258\n",
       "1   2008  639784\n",
       "2   2009  630227\n",
       "3   2010  637077\n",
       "4   2011  623788\n",
       "5   2012  621553\n",
       "6   2013  590364\n",
       "7   2014  576450\n",
       "8   2015  564708\n",
       "9   2016  549928\n",
       "10  2017  550996\n",
       "11  2018  552830"
      ]
     },
     "execution_count": 86,
     "metadata": {},
     "output_type": "execute_result"
    }
   ],
   "source": [
    "# viewing total dataframe\n",
    "df2"
   ]
  },
  {
   "cell_type": "code",
   "execution_count": 87,
   "id": "4321b6f1",
   "metadata": {},
   "outputs": [
    {
     "name": "stdout",
     "output_type": "stream",
     "text": [
      "<class 'pandas.core.frame.DataFrame'>\n",
      "RangeIndex: 12 entries, 0 to 11\n",
      "Data columns (total 2 columns):\n",
      " #   Column  Non-Null Count  Dtype\n",
      "---  ------  --------------  -----\n",
      " 0   year    12 non-null     int64\n",
      " 1   total   12 non-null     int64\n",
      "dtypes: int64(2)\n",
      "memory usage: 320.0 bytes\n"
     ]
    }
   ],
   "source": [
    "df2.info()"
   ]
  },
  {
   "cell_type": "code",
   "execution_count": 88,
   "id": "b7fa9600",
   "metadata": {},
   "outputs": [],
   "source": [
    "# converting year column to date-time\n",
    "df2['year'] = pd.to_datetime(df2['year'])"
   ]
  },
  {
   "cell_type": "code",
   "execution_count": 89,
   "id": "f08f7461",
   "metadata": {},
   "outputs": [],
   "source": [
    "# set the year column as the index\n",
    "df2 = df2.set_index('year')"
   ]
  },
  {
   "cell_type": "code",
   "execution_count": 90,
   "id": "2a9b19f2",
   "metadata": {},
   "outputs": [
    {
     "data": {
      "text/html": [
       "<div>\n",
       "<style scoped>\n",
       "    .dataframe tbody tr th:only-of-type {\n",
       "        vertical-align: middle;\n",
       "    }\n",
       "\n",
       "    .dataframe tbody tr th {\n",
       "        vertical-align: top;\n",
       "    }\n",
       "\n",
       "    .dataframe thead th {\n",
       "        text-align: right;\n",
       "    }\n",
       "</style>\n",
       "<table border=\"1\" class=\"dataframe\">\n",
       "  <thead>\n",
       "    <tr style=\"text-align: right;\">\n",
       "      <th></th>\n",
       "      <th>total</th>\n",
       "    </tr>\n",
       "    <tr>\n",
       "      <th>year</th>\n",
       "      <th></th>\n",
       "    </tr>\n",
       "  </thead>\n",
       "  <tbody>\n",
       "    <tr>\n",
       "      <th>1970-01-01 00:00:00.000002007</th>\n",
       "      <td>647258</td>\n",
       "    </tr>\n",
       "    <tr>\n",
       "      <th>1970-01-01 00:00:00.000002008</th>\n",
       "      <td>639784</td>\n",
       "    </tr>\n",
       "    <tr>\n",
       "      <th>1970-01-01 00:00:00.000002009</th>\n",
       "      <td>630227</td>\n",
       "    </tr>\n",
       "    <tr>\n",
       "      <th>1970-01-01 00:00:00.000002010</th>\n",
       "      <td>637077</td>\n",
       "    </tr>\n",
       "    <tr>\n",
       "      <th>1970-01-01 00:00:00.000002011</th>\n",
       "      <td>623788</td>\n",
       "    </tr>\n",
       "    <tr>\n",
       "      <th>1970-01-01 00:00:00.000002012</th>\n",
       "      <td>621553</td>\n",
       "    </tr>\n",
       "    <tr>\n",
       "      <th>1970-01-01 00:00:00.000002013</th>\n",
       "      <td>590364</td>\n",
       "    </tr>\n",
       "    <tr>\n",
       "      <th>1970-01-01 00:00:00.000002014</th>\n",
       "      <td>576450</td>\n",
       "    </tr>\n",
       "    <tr>\n",
       "      <th>1970-01-01 00:00:00.000002015</th>\n",
       "      <td>564708</td>\n",
       "    </tr>\n",
       "    <tr>\n",
       "      <th>1970-01-01 00:00:00.000002016</th>\n",
       "      <td>549928</td>\n",
       "    </tr>\n",
       "    <tr>\n",
       "      <th>1970-01-01 00:00:00.000002017</th>\n",
       "      <td>550996</td>\n",
       "    </tr>\n",
       "    <tr>\n",
       "      <th>1970-01-01 00:00:00.000002018</th>\n",
       "      <td>552830</td>\n",
       "    </tr>\n",
       "  </tbody>\n",
       "</table>\n",
       "</div>"
      ],
      "text/plain": [
       "                                total\n",
       "year                                 \n",
       "1970-01-01 00:00:00.000002007  647258\n",
       "1970-01-01 00:00:00.000002008  639784\n",
       "1970-01-01 00:00:00.000002009  630227\n",
       "1970-01-01 00:00:00.000002010  637077\n",
       "1970-01-01 00:00:00.000002011  623788\n",
       "1970-01-01 00:00:00.000002012  621553\n",
       "1970-01-01 00:00:00.000002013  590364\n",
       "1970-01-01 00:00:00.000002014  576450\n",
       "1970-01-01 00:00:00.000002015  564708\n",
       "1970-01-01 00:00:00.000002016  549928\n",
       "1970-01-01 00:00:00.000002017  550996\n",
       "1970-01-01 00:00:00.000002018  552830"
      ]
     },
     "execution_count": 90,
     "metadata": {},
     "output_type": "execute_result"
    }
   ],
   "source": [
    "df2"
   ]
  },
  {
   "cell_type": "code",
   "execution_count": 91,
   "id": "68d4134f",
   "metadata": {},
   "outputs": [],
   "source": [
    "# we need to reset the index to wrangle year column. \n",
    "df2 = df_total.reset_index()"
   ]
  },
  {
   "cell_type": "code",
   "execution_count": 92,
   "id": "910f266c",
   "metadata": {},
   "outputs": [
    {
     "data": {
      "text/html": [
       "<div>\n",
       "<style scoped>\n",
       "    .dataframe tbody tr th:only-of-type {\n",
       "        vertical-align: middle;\n",
       "    }\n",
       "\n",
       "    .dataframe tbody tr th {\n",
       "        vertical-align: top;\n",
       "    }\n",
       "\n",
       "    .dataframe thead th {\n",
       "        text-align: right;\n",
       "    }\n",
       "</style>\n",
       "<table border=\"1\" class=\"dataframe\">\n",
       "  <thead>\n",
       "    <tr style=\"text-align: right;\">\n",
       "      <th></th>\n",
       "      <th>year</th>\n",
       "      <th>total</th>\n",
       "    </tr>\n",
       "  </thead>\n",
       "  <tbody>\n",
       "    <tr>\n",
       "      <th>0</th>\n",
       "      <td>1970-01-01 00:00:00.000002007</td>\n",
       "      <td>647258</td>\n",
       "    </tr>\n",
       "    <tr>\n",
       "      <th>1</th>\n",
       "      <td>1970-01-01 00:00:00.000002008</td>\n",
       "      <td>639784</td>\n",
       "    </tr>\n",
       "    <tr>\n",
       "      <th>2</th>\n",
       "      <td>1970-01-01 00:00:00.000002009</td>\n",
       "      <td>630227</td>\n",
       "    </tr>\n",
       "    <tr>\n",
       "      <th>3</th>\n",
       "      <td>1970-01-01 00:00:00.000002010</td>\n",
       "      <td>637077</td>\n",
       "    </tr>\n",
       "    <tr>\n",
       "      <th>4</th>\n",
       "      <td>1970-01-01 00:00:00.000002011</td>\n",
       "      <td>623788</td>\n",
       "    </tr>\n",
       "    <tr>\n",
       "      <th>5</th>\n",
       "      <td>1970-01-01 00:00:00.000002012</td>\n",
       "      <td>621553</td>\n",
       "    </tr>\n",
       "    <tr>\n",
       "      <th>6</th>\n",
       "      <td>1970-01-01 00:00:00.000002013</td>\n",
       "      <td>590364</td>\n",
       "    </tr>\n",
       "    <tr>\n",
       "      <th>7</th>\n",
       "      <td>1970-01-01 00:00:00.000002014</td>\n",
       "      <td>576450</td>\n",
       "    </tr>\n",
       "    <tr>\n",
       "      <th>8</th>\n",
       "      <td>1970-01-01 00:00:00.000002015</td>\n",
       "      <td>564708</td>\n",
       "    </tr>\n",
       "    <tr>\n",
       "      <th>9</th>\n",
       "      <td>1970-01-01 00:00:00.000002016</td>\n",
       "      <td>549928</td>\n",
       "    </tr>\n",
       "    <tr>\n",
       "      <th>10</th>\n",
       "      <td>1970-01-01 00:00:00.000002017</td>\n",
       "      <td>550996</td>\n",
       "    </tr>\n",
       "    <tr>\n",
       "      <th>11</th>\n",
       "      <td>1970-01-01 00:00:00.000002018</td>\n",
       "      <td>552830</td>\n",
       "    </tr>\n",
       "  </tbody>\n",
       "</table>\n",
       "</div>"
      ],
      "text/plain": [
       "                            year   total\n",
       "0  1970-01-01 00:00:00.000002007  647258\n",
       "1  1970-01-01 00:00:00.000002008  639784\n",
       "2  1970-01-01 00:00:00.000002009  630227\n",
       "3  1970-01-01 00:00:00.000002010  637077\n",
       "4  1970-01-01 00:00:00.000002011  623788\n",
       "5  1970-01-01 00:00:00.000002012  621553\n",
       "6  1970-01-01 00:00:00.000002013  590364\n",
       "7  1970-01-01 00:00:00.000002014  576450\n",
       "8  1970-01-01 00:00:00.000002015  564708\n",
       "9  1970-01-01 00:00:00.000002016  549928\n",
       "10 1970-01-01 00:00:00.000002017  550996\n",
       "11 1970-01-01 00:00:00.000002018  552830"
      ]
     },
     "execution_count": 92,
     "metadata": {},
     "output_type": "execute_result"
    }
   ],
   "source": [
    "df2"
   ]
  },
  {
   "cell_type": "code",
   "execution_count": 93,
   "id": "bd714f90",
   "metadata": {},
   "outputs": [
    {
     "name": "stdout",
     "output_type": "stream",
     "text": [
      "<class 'pandas.core.frame.DataFrame'>\n",
      "RangeIndex: 12 entries, 0 to 11\n",
      "Data columns (total 2 columns):\n",
      " #   Column  Non-Null Count  Dtype         \n",
      "---  ------  --------------  -----         \n",
      " 0   year    12 non-null     datetime64[ns]\n",
      " 1   total   12 non-null     int64         \n",
      "dtypes: datetime64[ns](1), int64(1)\n",
      "memory usage: 320.0 bytes\n"
     ]
    }
   ],
   "source": [
    "# viewing datatype for year column\n",
    "df2.info()"
   ]
  },
  {
   "cell_type": "code",
   "execution_count": 94,
   "id": "55af1db4",
   "metadata": {},
   "outputs": [],
   "source": [
    "# converting data type to string to extract the year. \n",
    "df2['year']=df2['year'].astype('str')"
   ]
  },
  {
   "cell_type": "code",
   "execution_count": 95,
   "id": "54f9239a",
   "metadata": {},
   "outputs": [
    {
     "data": {
      "text/html": [
       "<div>\n",
       "<style scoped>\n",
       "    .dataframe tbody tr th:only-of-type {\n",
       "        vertical-align: middle;\n",
       "    }\n",
       "\n",
       "    .dataframe tbody tr th {\n",
       "        vertical-align: top;\n",
       "    }\n",
       "\n",
       "    .dataframe thead th {\n",
       "        text-align: right;\n",
       "    }\n",
       "</style>\n",
       "<table border=\"1\" class=\"dataframe\">\n",
       "  <thead>\n",
       "    <tr style=\"text-align: right;\">\n",
       "      <th></th>\n",
       "      <th>year</th>\n",
       "      <th>total</th>\n",
       "    </tr>\n",
       "  </thead>\n",
       "  <tbody>\n",
       "    <tr>\n",
       "      <th>0</th>\n",
       "      <td>2007</td>\n",
       "      <td>647258</td>\n",
       "    </tr>\n",
       "    <tr>\n",
       "      <th>1</th>\n",
       "      <td>2008</td>\n",
       "      <td>639784</td>\n",
       "    </tr>\n",
       "    <tr>\n",
       "      <th>2</th>\n",
       "      <td>2009</td>\n",
       "      <td>630227</td>\n",
       "    </tr>\n",
       "    <tr>\n",
       "      <th>3</th>\n",
       "      <td>2010</td>\n",
       "      <td>637077</td>\n",
       "    </tr>\n",
       "    <tr>\n",
       "      <th>4</th>\n",
       "      <td>2011</td>\n",
       "      <td>623788</td>\n",
       "    </tr>\n",
       "    <tr>\n",
       "      <th>5</th>\n",
       "      <td>2012</td>\n",
       "      <td>621553</td>\n",
       "    </tr>\n",
       "    <tr>\n",
       "      <th>6</th>\n",
       "      <td>2013</td>\n",
       "      <td>590364</td>\n",
       "    </tr>\n",
       "    <tr>\n",
       "      <th>7</th>\n",
       "      <td>2014</td>\n",
       "      <td>576450</td>\n",
       "    </tr>\n",
       "    <tr>\n",
       "      <th>8</th>\n",
       "      <td>2015</td>\n",
       "      <td>564708</td>\n",
       "    </tr>\n",
       "    <tr>\n",
       "      <th>9</th>\n",
       "      <td>2016</td>\n",
       "      <td>549928</td>\n",
       "    </tr>\n",
       "    <tr>\n",
       "      <th>10</th>\n",
       "      <td>2017</td>\n",
       "      <td>550996</td>\n",
       "    </tr>\n",
       "    <tr>\n",
       "      <th>11</th>\n",
       "      <td>2018</td>\n",
       "      <td>552830</td>\n",
       "    </tr>\n",
       "  </tbody>\n",
       "</table>\n",
       "</div>"
      ],
      "text/plain": [
       "    year   total\n",
       "0   2007  647258\n",
       "1   2008  639784\n",
       "2   2009  630227\n",
       "3   2010  637077\n",
       "4   2011  623788\n",
       "5   2012  621553\n",
       "6   2013  590364\n",
       "7   2014  576450\n",
       "8   2015  564708\n",
       "9   2016  549928\n",
       "10  2017  550996\n",
       "11  2018  552830"
      ]
     },
     "execution_count": 95,
     "metadata": {},
     "output_type": "execute_result"
    }
   ],
   "source": [
    "# extract the last 4 of the year to get the year. \n",
    "df2['year'] = df2['year'].str[-4:]\n",
    "df2"
   ]
  },
  {
   "cell_type": "code",
   "execution_count": 96,
   "id": "6c44267e",
   "metadata": {},
   "outputs": [],
   "source": [
    "# convert the year datatype string back to date/time\n",
    "df2['year'] = pd.to_datetime(df2['year'])"
   ]
  },
  {
   "cell_type": "code",
   "execution_count": 97,
   "id": "920f0372",
   "metadata": {},
   "outputs": [
    {
     "name": "stdout",
     "output_type": "stream",
     "text": [
      "<class 'pandas.core.frame.DataFrame'>\n",
      "RangeIndex: 12 entries, 0 to 11\n",
      "Data columns (total 2 columns):\n",
      " #   Column  Non-Null Count  Dtype         \n",
      "---  ------  --------------  -----         \n",
      " 0   year    12 non-null     datetime64[ns]\n",
      " 1   total   12 non-null     int64         \n",
      "dtypes: datetime64[ns](1), int64(1)\n",
      "memory usage: 320.0 bytes\n"
     ]
    }
   ],
   "source": [
    "df2.info()"
   ]
  },
  {
   "cell_type": "code",
   "execution_count": 98,
   "id": "e468526a",
   "metadata": {},
   "outputs": [
    {
     "data": {
      "text/html": [
       "<div>\n",
       "<style scoped>\n",
       "    .dataframe tbody tr th:only-of-type {\n",
       "        vertical-align: middle;\n",
       "    }\n",
       "\n",
       "    .dataframe tbody tr th {\n",
       "        vertical-align: top;\n",
       "    }\n",
       "\n",
       "    .dataframe thead th {\n",
       "        text-align: right;\n",
       "    }\n",
       "</style>\n",
       "<table border=\"1\" class=\"dataframe\">\n",
       "  <thead>\n",
       "    <tr style=\"text-align: right;\">\n",
       "      <th></th>\n",
       "      <th>year</th>\n",
       "      <th>total</th>\n",
       "    </tr>\n",
       "  </thead>\n",
       "  <tbody>\n",
       "    <tr>\n",
       "      <th>0</th>\n",
       "      <td>2007-01-01</td>\n",
       "      <td>647258</td>\n",
       "    </tr>\n",
       "    <tr>\n",
       "      <th>1</th>\n",
       "      <td>2008-01-01</td>\n",
       "      <td>639784</td>\n",
       "    </tr>\n",
       "    <tr>\n",
       "      <th>2</th>\n",
       "      <td>2009-01-01</td>\n",
       "      <td>630227</td>\n",
       "    </tr>\n",
       "    <tr>\n",
       "      <th>3</th>\n",
       "      <td>2010-01-01</td>\n",
       "      <td>637077</td>\n",
       "    </tr>\n",
       "    <tr>\n",
       "      <th>4</th>\n",
       "      <td>2011-01-01</td>\n",
       "      <td>623788</td>\n",
       "    </tr>\n",
       "  </tbody>\n",
       "</table>\n",
       "</div>"
      ],
      "text/plain": [
       "        year   total\n",
       "0 2007-01-01  647258\n",
       "1 2008-01-01  639784\n",
       "2 2009-01-01  630227\n",
       "3 2010-01-01  637077\n",
       "4 2011-01-01  623788"
      ]
     },
     "execution_count": 98,
     "metadata": {},
     "output_type": "execute_result"
    }
   ],
   "source": [
    "df2.head()"
   ]
  },
  {
   "cell_type": "code",
   "execution_count": 99,
   "id": "471d0680",
   "metadata": {},
   "outputs": [],
   "source": [
    "# resetting the year column to be the index\n",
    "df2=df2.set_index('year')"
   ]
  },
  {
   "cell_type": "code",
   "execution_count": 100,
   "id": "5b51fc92",
   "metadata": {},
   "outputs": [
    {
     "data": {
      "text/html": [
       "<div>\n",
       "<style scoped>\n",
       "    .dataframe tbody tr th:only-of-type {\n",
       "        vertical-align: middle;\n",
       "    }\n",
       "\n",
       "    .dataframe tbody tr th {\n",
       "        vertical-align: top;\n",
       "    }\n",
       "\n",
       "    .dataframe thead th {\n",
       "        text-align: right;\n",
       "    }\n",
       "</style>\n",
       "<table border=\"1\" class=\"dataframe\">\n",
       "  <thead>\n",
       "    <tr style=\"text-align: right;\">\n",
       "      <th></th>\n",
       "      <th>total</th>\n",
       "    </tr>\n",
       "    <tr>\n",
       "      <th>year</th>\n",
       "      <th></th>\n",
       "    </tr>\n",
       "  </thead>\n",
       "  <tbody>\n",
       "    <tr>\n",
       "      <th>2007-01-01</th>\n",
       "      <td>647258</td>\n",
       "    </tr>\n",
       "    <tr>\n",
       "      <th>2008-01-01</th>\n",
       "      <td>639784</td>\n",
       "    </tr>\n",
       "    <tr>\n",
       "      <th>2009-01-01</th>\n",
       "      <td>630227</td>\n",
       "    </tr>\n",
       "    <tr>\n",
       "      <th>2010-01-01</th>\n",
       "      <td>637077</td>\n",
       "    </tr>\n",
       "    <tr>\n",
       "      <th>2011-01-01</th>\n",
       "      <td>623788</td>\n",
       "    </tr>\n",
       "    <tr>\n",
       "      <th>2012-01-01</th>\n",
       "      <td>621553</td>\n",
       "    </tr>\n",
       "    <tr>\n",
       "      <th>2013-01-01</th>\n",
       "      <td>590364</td>\n",
       "    </tr>\n",
       "    <tr>\n",
       "      <th>2014-01-01</th>\n",
       "      <td>576450</td>\n",
       "    </tr>\n",
       "    <tr>\n",
       "      <th>2015-01-01</th>\n",
       "      <td>564708</td>\n",
       "    </tr>\n",
       "    <tr>\n",
       "      <th>2016-01-01</th>\n",
       "      <td>549928</td>\n",
       "    </tr>\n",
       "    <tr>\n",
       "      <th>2017-01-01</th>\n",
       "      <td>550996</td>\n",
       "    </tr>\n",
       "    <tr>\n",
       "      <th>2018-01-01</th>\n",
       "      <td>552830</td>\n",
       "    </tr>\n",
       "  </tbody>\n",
       "</table>\n",
       "</div>"
      ],
      "text/plain": [
       "             total\n",
       "year              \n",
       "2007-01-01  647258\n",
       "2008-01-01  639784\n",
       "2009-01-01  630227\n",
       "2010-01-01  637077\n",
       "2011-01-01  623788\n",
       "2012-01-01  621553\n",
       "2013-01-01  590364\n",
       "2014-01-01  576450\n",
       "2015-01-01  564708\n",
       "2016-01-01  549928\n",
       "2017-01-01  550996\n",
       "2018-01-01  552830"
      ]
     },
     "execution_count": 100,
     "metadata": {},
     "output_type": "execute_result"
    }
   ],
   "source": [
    "df2"
   ]
  },
  {
   "cell_type": "code",
   "execution_count": 103,
   "id": "94a39a21",
   "metadata": {},
   "outputs": [],
   "source": [
    "# renaming total column to be more transparent\n",
    "df2.rename(columns={'total':'Total Homeless'}, inplace=True)"
   ]
  },
  {
   "cell_type": "code",
   "execution_count": 104,
   "id": "d836acbb",
   "metadata": {},
   "outputs": [
    {
     "data": {
      "text/html": [
       "<div>\n",
       "<style scoped>\n",
       "    .dataframe tbody tr th:only-of-type {\n",
       "        vertical-align: middle;\n",
       "    }\n",
       "\n",
       "    .dataframe tbody tr th {\n",
       "        vertical-align: top;\n",
       "    }\n",
       "\n",
       "    .dataframe thead th {\n",
       "        text-align: right;\n",
       "    }\n",
       "</style>\n",
       "<table border=\"1\" class=\"dataframe\">\n",
       "  <thead>\n",
       "    <tr style=\"text-align: right;\">\n",
       "      <th></th>\n",
       "      <th>Total Homeless</th>\n",
       "    </tr>\n",
       "    <tr>\n",
       "      <th>year</th>\n",
       "      <th></th>\n",
       "    </tr>\n",
       "  </thead>\n",
       "  <tbody>\n",
       "    <tr>\n",
       "      <th>2007-01-01</th>\n",
       "      <td>647258</td>\n",
       "    </tr>\n",
       "    <tr>\n",
       "      <th>2008-01-01</th>\n",
       "      <td>639784</td>\n",
       "    </tr>\n",
       "    <tr>\n",
       "      <th>2009-01-01</th>\n",
       "      <td>630227</td>\n",
       "    </tr>\n",
       "    <tr>\n",
       "      <th>2010-01-01</th>\n",
       "      <td>637077</td>\n",
       "    </tr>\n",
       "    <tr>\n",
       "      <th>2011-01-01</th>\n",
       "      <td>623788</td>\n",
       "    </tr>\n",
       "    <tr>\n",
       "      <th>2012-01-01</th>\n",
       "      <td>621553</td>\n",
       "    </tr>\n",
       "    <tr>\n",
       "      <th>2013-01-01</th>\n",
       "      <td>590364</td>\n",
       "    </tr>\n",
       "    <tr>\n",
       "      <th>2014-01-01</th>\n",
       "      <td>576450</td>\n",
       "    </tr>\n",
       "    <tr>\n",
       "      <th>2015-01-01</th>\n",
       "      <td>564708</td>\n",
       "    </tr>\n",
       "    <tr>\n",
       "      <th>2016-01-01</th>\n",
       "      <td>549928</td>\n",
       "    </tr>\n",
       "    <tr>\n",
       "      <th>2017-01-01</th>\n",
       "      <td>550996</td>\n",
       "    </tr>\n",
       "    <tr>\n",
       "      <th>2018-01-01</th>\n",
       "      <td>552830</td>\n",
       "    </tr>\n",
       "  </tbody>\n",
       "</table>\n",
       "</div>"
      ],
      "text/plain": [
       "            Total Homeless\n",
       "year                      \n",
       "2007-01-01          647258\n",
       "2008-01-01          639784\n",
       "2009-01-01          630227\n",
       "2010-01-01          637077\n",
       "2011-01-01          623788\n",
       "2012-01-01          621553\n",
       "2013-01-01          590364\n",
       "2014-01-01          576450\n",
       "2015-01-01          564708\n",
       "2016-01-01          549928\n",
       "2017-01-01          550996\n",
       "2018-01-01          552830"
      ]
     },
     "execution_count": 104,
     "metadata": {},
     "output_type": "execute_result"
    }
   ],
   "source": [
    "df2"
   ]
  },
  {
   "cell_type": "code",
   "execution_count": 106,
   "id": "56d598dd",
   "metadata": {},
   "outputs": [
    {
     "data": {
      "text/plain": [
       "Total Homeless    0\n",
       "dtype: int64"
      ]
     },
     "execution_count": 106,
     "metadata": {},
     "output_type": "execute_result"
    }
   ],
   "source": [
    "# checking for missing values\n",
    "df2.isnull().sum() # no missing values"
   ]
  },
  {
   "cell_type": "code",
   "execution_count": 107,
   "id": "fd5fcfa7",
   "metadata": {},
   "outputs": [
    {
     "data": {
      "text/plain": [
       "0"
      ]
     },
     "execution_count": 107,
     "metadata": {},
     "output_type": "execute_result"
    }
   ],
   "source": [
    "# checking for duplicates\n",
    "df2_dups = df2.duplicated()\n",
    "df2_dups.sum() # no duplicates"
   ]
  },
  {
   "cell_type": "code",
   "execution_count": 110,
   "id": "2d167488",
   "metadata": {},
   "outputs": [
    {
     "data": {
      "text/plain": [
       "[<matplotlib.lines.Line2D at 0x2891ba7d8e0>]"
      ]
     },
     "execution_count": 110,
     "metadata": {},
     "output_type": "execute_result"
    },
    {
     "data": {
      "image/png": "[encoded data removed]",
      "text/plain": [
       "<Figure size 1500x500 with 1 Axes>"
      ]
     },
     "metadata": {},
     "output_type": "display_data"
    }
   ],
   "source": [
    "# plot the new dataset\n",
    "plt.figure(figsize=(15,5), dpi=100)\n",
    "plt.plot(df2)"
   ]
  },
  {
   "cell_type": "markdown",
   "id": "9bca9d82",
   "metadata": {},
   "source": [
    "# 4. Time Series Analysis:  Decomposition"
   ]
  },
  {
   "cell_type": "code",
   "execution_count": 112,
   "id": "e2a66c01",
   "metadata": {},
   "outputs": [],
   "source": [
    "# decompose the time series using an additive model\n",
    "decomposition = sm.tsa.seasonal_decompose(df2,model='additive')\n",
    "from pylab import rcParams # this defines a fixed size for all special charts\n",
    "rcParams['figure.figsize']=18,7"
   ]
  },
  {
   "cell_type": "code",
   "execution_count": 113,
   "id": "2aae9e60",
   "metadata": {},
   "outputs": [
    {
     "data": {
      "image/png": "[encoded data removed]",
      "text/plain": [
       "<Figure size 1296x504 with 4 Axes>"
      ]
     },
     "metadata": {},
     "output_type": "display_data"
    }
   ],
   "source": [
    "# plotting the separate components\n",
    "decomposition.plot()\n",
    "plt.show()"
   ]
  },
  {
   "cell_type": "markdown",
   "id": "0bdf9e8a",
   "metadata": {},
   "source": [
    "Analysis of Decomposition: \n",
    "\n",
    "1) There is a downward trend in homeless numbers since 2008\n",
    "\n",
    "2) There is no seasonality\n",
    "\n",
    "3) There is little noise left over after the trend and seasonality have been extracted"
   ]
  },
  {
   "cell_type": "markdown",
   "id": "136217b5",
   "metadata": {},
   "source": [
    "# 5. Dickey Fuller Testing"
   ]
  },
  {
   "cell_type": "markdown",
   "id": "bbd887a0",
   "metadata": {},
   "source": [
    "**Null Hypothesis:** There is a unit root.  \n",
    "\n",
    "**Alternate Hypothesis:** There is no unit root "
   ]
  },
  {
   "cell_type": "code",
   "execution_count": 114,
   "id": "18f4f8b8",
   "metadata": {},
   "outputs": [],
   "source": [
    "# the adfuller() function will import from the model from statsmodels for the test; however, running it will only return an array of numbers.  This is why you need to define a function that prints the correct output for the array. \n",
    "\n",
    "from statsmodels.tsa.stattools import adfuller # Importing the adfuller() function\n",
    "\n",
    "def dickey_fuller(timeseries): # Define the function\n",
    "    # Perform the Dickey-Fuller test:\n",
    "    print ('Dickey-Fuller Stationarity test:')\n",
    "    test = adfuller(timeseries, autolag='AIC')\n",
    "    result = pd.Series(test[0:4], index=['Test Statistic','p-value','Number of Lags Used','Number of Observations Used'])\n",
    "    for key,value in test[4].items():\n",
    "       result['Critical Value (%s)'%key] = value\n",
    "    print (result)"
   ]
  },
  {
   "cell_type": "code",
   "execution_count": 115,
   "id": "1d42b5f0",
   "metadata": {},
   "outputs": [
    {
     "name": "stdout",
     "output_type": "stream",
     "text": [
      "Dickey-Fuller Stationarity test:\n",
      "Test Statistic                 -0.532647\n",
      "p-value                         0.885487\n",
      "Number of Lags Used             0.000000\n",
      "Number of Observations Used    11.000000\n",
      "Critical Value (1%)            -4.223238\n",
      "Critical Value (5%)            -3.189369\n",
      "Critical Value (10%)           -2.729839\n",
      "dtype: float64\n"
     ]
    }
   ],
   "source": [
    "# apply the test using the function on the time series\n",
    "dickey_fuller(df2['Total Homeless'])"
   ]
  },
  {
   "cell_type": "markdown",
   "id": "165f65d8",
   "metadata": {},
   "source": [
    "Since the test statistic is larger than the critical values we cannot reject the null hypothesis.  This indicates that the data is non-stationary and we will need to stationarize the data. "
   ]
  },
  {
   "cell_type": "markdown",
   "id": "b7219e9c",
   "metadata": {},
   "source": [
    "# 6. Autocorrelation"
   ]
  },
  {
   "cell_type": "code",
   "execution_count": 116,
   "id": "15eca58b",
   "metadata": {},
   "outputs": [
    {
     "data": {
      "image/png": "[encoded data removed]",
      "text/plain": [
       "<Figure size 1296x504 with 1 Axes>"
      ]
     },
     "metadata": {},
     "output_type": "display_data"
    }
   ],
   "source": [
    "# check out plot of autocorrelations\n",
    "from statsmodels.graphics.tsaplots import plot_acf, plot_pacf # here, we are importing the autocorrelation and partial\n",
    "#correlation plots\n",
    "plot_acf(df2)\n",
    "plt.show()"
   ]
  },
  {
   "cell_type": "markdown",
   "id": "c52cd7e7",
   "metadata": {},
   "source": [
    "Results:  Autocorrelation does show the data to be non-stationary. "
   ]
  },
  {
   "cell_type": "markdown",
   "id": "3535f7bb",
   "metadata": {},
   "source": [
    "# 7. Stationarizing the Data using Differencing"
   ]
  },
  {
   "cell_type": "code",
   "execution_count": 117,
   "id": "71f499bf",
   "metadata": {},
   "outputs": [],
   "source": [
    "#stationarize the dataframe using differencing\n",
    "df2_diff = df2-df2.shift(1) # the df.shift(1) function turns the observation to t-1, making the whole thing t-(t-1)"
   ]
  },
  {
   "cell_type": "code",
   "execution_count": 118,
   "id": "b6cf929b",
   "metadata": {},
   "outputs": [
    {
     "data": {
      "text/plain": [
       "(12, 1)"
      ]
     },
     "execution_count": 118,
     "metadata": {},
     "output_type": "execute_result"
    }
   ],
   "source": [
    "# viewing output\n",
    "df2_diff.shape"
   ]
  },
  {
   "cell_type": "code",
   "execution_count": 119,
   "id": "7bdcc82d",
   "metadata": {},
   "outputs": [],
   "source": [
    "# removing any missing values that came about as a result of the differencing. \n",
    "df2_diff.dropna(inplace=True)"
   ]
  },
  {
   "cell_type": "code",
   "execution_count": 121,
   "id": "777bf49b",
   "metadata": {},
   "outputs": [
    {
     "data": {
      "text/html": [
       "<div>\n",
       "<style scoped>\n",
       "    .dataframe tbody tr th:only-of-type {\n",
       "        vertical-align: middle;\n",
       "    }\n",
       "\n",
       "    .dataframe tbody tr th {\n",
       "        vertical-align: top;\n",
       "    }\n",
       "\n",
       "    .dataframe thead th {\n",
       "        text-align: right;\n",
       "    }\n",
       "</style>\n",
       "<table border=\"1\" class=\"dataframe\">\n",
       "  <thead>\n",
       "    <tr style=\"text-align: right;\">\n",
       "      <th></th>\n",
       "      <th>Total Homeless</th>\n",
       "    </tr>\n",
       "    <tr>\n",
       "      <th>year</th>\n",
       "      <th></th>\n",
       "    </tr>\n",
       "  </thead>\n",
       "  <tbody>\n",
       "    <tr>\n",
       "      <th>2008-01-01</th>\n",
       "      <td>-7474.0</td>\n",
       "    </tr>\n",
       "    <tr>\n",
       "      <th>2009-01-01</th>\n",
       "      <td>-9557.0</td>\n",
       "    </tr>\n",
       "    <tr>\n",
       "      <th>2010-01-01</th>\n",
       "      <td>6850.0</td>\n",
       "    </tr>\n",
       "    <tr>\n",
       "      <th>2011-01-01</th>\n",
       "      <td>-13289.0</td>\n",
       "    </tr>\n",
       "    <tr>\n",
       "      <th>2012-01-01</th>\n",
       "      <td>-2235.0</td>\n",
       "    </tr>\n",
       "  </tbody>\n",
       "</table>\n",
       "</div>"
      ],
      "text/plain": [
       "            Total Homeless\n",
       "year                      \n",
       "2008-01-01         -7474.0\n",
       "2009-01-01         -9557.0\n",
       "2010-01-01          6850.0\n",
       "2011-01-01        -13289.0\n",
       "2012-01-01         -2235.0"
      ]
     },
     "execution_count": 121,
     "metadata": {},
     "output_type": "execute_result"
    }
   ],
   "source": [
    "df2_diff.head()"
   ]
  },
  {
   "cell_type": "code",
   "execution_count": 122,
   "id": "8d2ac853",
   "metadata": {},
   "outputs": [
    {
     "data": {
      "text/plain": [
       "Index(['Total Homeless'], dtype='object')"
      ]
     },
     "execution_count": 122,
     "metadata": {},
     "output_type": "execute_result"
    }
   ],
   "source": [
    "df2_diff.columns"
   ]
  },
  {
   "cell_type": "code",
   "execution_count": 123,
   "id": "f255ecf1",
   "metadata": {},
   "outputs": [
    {
     "data": {
      "text/plain": [
       "[<matplotlib.lines.Line2D at 0x2891bcd7580>]"
      ]
     },
     "execution_count": 123,
     "metadata": {},
     "output_type": "execute_result"
    },
    {
     "data": {
      "image/png": "[encoded data removed]",
      "text/plain": [
       "<Figure size 1500x500 with 1 Axes>"
      ]
     },
     "metadata": {},
     "output_type": "display_data"
    }
   ],
   "source": [
    "# checking out the difference to the time series curve. \n",
    "plt.figure(figsize=(15,5), dpi=100)\n",
    "plt.plot(df2_diff)"
   ]
  },
  {
   "cell_type": "code",
   "execution_count": 124,
   "id": "75a67929",
   "metadata": {},
   "outputs": [
    {
     "name": "stdout",
     "output_type": "stream",
     "text": [
      "Dickey-Fuller Stationarity test:\n",
      "Test Statistic                 -2.857021\n",
      "p-value                         0.050579\n",
      "Number of Lags Used             0.000000\n",
      "Number of Observations Used    10.000000\n",
      "Critical Value (1%)            -4.331573\n",
      "Critical Value (5%)            -3.232950\n",
      "Critical Value (10%)           -2.748700\n",
      "dtype: float64\n"
     ]
    }
   ],
   "source": [
    "# rerunning the Dickey Fuller test with stationarized data\n",
    "dickey_fuller(df2_diff)"
   ]
  },
  {
   "cell_type": "markdown",
   "id": "30758800",
   "metadata": {},
   "source": [
    "Results:  We have a satisfactory p-value of 0.05, and our test statistic is smaller than the 10% critical value; therefore, we can reject the null hypothesis and consider the data stationary. "
   ]
  },
  {
   "cell_type": "code",
   "execution_count": 125,
   "id": "ed4128b2",
   "metadata": {},
   "outputs": [
    {
     "data": {
      "image/png": "[encoded data removed]",
      "text/plain": [
       "<Figure size 1296x504 with 1 Axes>"
      ]
     },
     "metadata": {},
     "output_type": "display_data"
    }
   ],
   "source": [
    "# checking the autocorrelation with stationarized data\n",
    "plot_acf(df2_diff)\n",
    "plt.show()"
   ]
  },
  {
   "cell_type": "markdown",
   "id": "5571a34d",
   "metadata": {},
   "source": [
    "Results:  There is no autocorrelation after we standardized the data, and therefore the data is also reflecting non-stationary. We are okay to proceed with forecasting. "
   ]
  },
  {
   "cell_type": "markdown",
   "id": "28d8952e",
   "metadata": {},
   "source": [
    "# 8.  Exporting the Data"
   ]
  },
  {
   "cell_type": "code",
   "execution_count": 126,
   "id": "09e05360",
   "metadata": {},
   "outputs": [],
   "source": [
    "df2_diff.to_csv(r'C:\\Users\\there\\Desktop\\Achievement 6\\02 Data\\Prepared Data\\6.6_Stationarized_Homeless_TimeSeries.csv')"
   ]
  },
  {
   "cell_type": "code",
   "execution_count": 127,
   "id": "ae184f1a",
   "metadata": {},
   "outputs": [],
   "source": [
    "df2.to_csv(r'C:\\Users\\there\\Desktop\\Achievement 6\\02 Data\\Prepared Data\\6.6_Homeless_TimeSeries.csv')"
   ]
  }
 ],
 "metadata": {
  "kernelspec": {
   "display_name": "Python 3 (ipykernel)",
   "language": "python",
   "name": "python3"
  },
  "language_info": {
   "codemirror_mode": {
    "name": "ipython",
    "version": 3
   },
   "file_extension": ".py",
   "mimetype": "text/x-python",
   "name": "python",
   "nbconvert_exporter": "python",
   "pygments_lexer": "ipython3",
   "version": "3.9.12"
  }
 },
 "nbformat": 4,
 "nbformat_minor": 5
}
